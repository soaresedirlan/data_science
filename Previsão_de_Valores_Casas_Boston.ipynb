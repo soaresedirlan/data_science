{
  "nbformat": 4,
  "nbformat_minor": 0,
  "metadata": {
    "colab": {
      "name": "Previsão_de_Valores_Casas_Boston.ipynb",
      "provenance": [],
      "toc_visible": true,
      "authorship_tag": "ABX9TyPfoaMgvoyzLdgWyUh4F4Lo",
      "include_colab_link": true
    },
    "kernelspec": {
      "name": "python3",
      "display_name": "Python 3"
    }
  },
  "cells": [
    {
      "cell_type": "markdown",
      "metadata": {
        "id": "view-in-github",
        "colab_type": "text"
      },
      "source": [
        "<a href=\"https://colab.research.google.com/github/soaresedirlan/data_science/blob/master/Previs%C3%A3o_de_Valores_Casas_Boston.ipynb\" target=\"_parent\"><img src=\"https://colab.research.google.com/assets/colab-badge.svg\" alt=\"Open In Colab\"/></a>"
      ]
    },
    {
      "cell_type": "markdown",
      "metadata": {
        "id": "JQ0cU1dwSQsL",
        "colab_type": "text"
      },
      "source": [
        "#**Base de Dados Boston**\n",
        "\n",
        " ---\n",
        "\n",
        "**`CRIM`**: Taxa de criminalidade per capita por regiao.\n",
        "\n",
        "**`ZN`**: Proporção de terrenos residenciais divididos por lotes com mais de 25.000 pés quadrados.\n",
        "\n",
        "**`INDUS`**: Essa é a proporção de hectares de negócios não comerciais por regiao.\n",
        "\n",
        "**`CHAS`**: variável fictícia Charles River (= 1 se o trecho limita o rio; 0 caso contrário)\n",
        "\n",
        "**`NOX`**: concentração de óxido nítrico (partes por 10 milhões)\n",
        "\n",
        "**`RM`**: Número médio de quartos entre as casas do bairro\n",
        "\n",
        "**`Age`**: proporção de unidades ocupadas pelos proprietários construídas antes de 1940\n",
        "\n",
        "**`DIS`**: distâncias ponderadas para cinco centros de emprego em Boston\n",
        "\n",
        "**`RAD`**: Índice de acessibilidade às rodovias radiais\n",
        "\n",
        "**`IMPOSTO`**: taxa do imposto sobre a propriedade de valor total por US $ 10.000\n",
        "\n",
        "**`B`**: 1000 (Bk - 0,63) ², onde Bk é a proporção de pessoas de descendência afro-americana por regiao\n",
        "\n",
        "**`PTRATIO`**: Bairros com maior proporção de alunos para professores (maior valor de 'PTRATIO')\n",
        "\n",
        "**`LSTAT`**: porcentagem de status mais baixo da população\n",
        "\n",
        "**`MEDV`**: valor médio de casas ocupadas pelos proprietários em US $ 1000"
      ]
    },
    {
      "cell_type": "markdown",
      "metadata": {
        "id": "7-kTaUitNYjw",
        "colab_type": "text"
      },
      "source": [
        "Montar Google Drive\n",
        "\n"
      ]
    },
    {
      "cell_type": "markdown",
      "metadata": {
        "id": "g7NfshcxORMW",
        "colab_type": "text"
      },
      "source": [
        "##Importar as bibliotecas Padrões\n"
      ]
    },
    {
      "cell_type": "code",
      "metadata": {
        "id": "CilxHSMgOW1s",
        "colab_type": "code",
        "colab": {}
      },
      "source": [
        "import pandas as pd\n",
        "import seaborn as sns\n",
        "import numpy as np\n",
        "import matplotlib.pyplot as plt"
      ],
      "execution_count": 0,
      "outputs": []
    },
    {
      "cell_type": "markdown",
      "metadata": {
        "id": "7mbQYkXcOkFl",
        "colab_type": "text"
      },
      "source": [
        "##**Carregar base de dados**"
      ]
    },
    {
      "cell_type": "code",
      "metadata": {
        "id": "4GUfHbLAOmUs",
        "colab_type": "code",
        "colab": {}
      },
      "source": [
        "from sklearn.datasets import load_boston\n",
        "\n",
        "boston = load_boston()"
      ],
      "execution_count": 0,
      "outputs": []
    },
    {
      "cell_type": "code",
      "metadata": {
        "id": "V9pIZ6a6QGCP",
        "colab_type": "code",
        "colab": {}
      },
      "source": [
        "#Descrição do dataset\n",
        "\n",
        "print(boston.DESCR)"
      ],
      "execution_count": 0,
      "outputs": []
    },
    {
      "cell_type": "code",
      "metadata": {
        "id": "XYt3-GcEQ2EG",
        "colab_type": "code",
        "colab": {}
      },
      "source": [
        "#Cria o dataframe do pandas\n",
        "data = pd.DataFrame(boston.data, columns=boston.feature_names)"
      ],
      "execution_count": 0,
      "outputs": []
    },
    {
      "cell_type": "code",
      "metadata": {
        "id": "5qpB3xjNRTr8",
        "colab_type": "code",
        "colab": {}
      },
      "source": [
        "#Ver o dataframe\n",
        "data.head()"
      ],
      "execution_count": 0,
      "outputs": []
    },
    {
      "cell_type": "code",
      "metadata": {
        "id": "QAF8sbykTvfT",
        "colab_type": "code",
        "colab": {}
      },
      "source": [
        "data['MEDV'] = boston.target"
      ],
      "execution_count": 0,
      "outputs": []
    },
    {
      "cell_type": "code",
      "metadata": {
        "id": "knUxH4-_Td7n",
        "colab_type": "code",
        "colab": {}
      },
      "source": [
        "#Escreva o arquivo no disco\n",
        "data.to_csv('boston.csv')"
      ],
      "execution_count": 0,
      "outputs": []
    },
    {
      "cell_type": "markdown",
      "metadata": {
        "id": "B7XWHb-zUkat",
        "colab_type": "text"
      },
      "source": [
        "## **Análise e Exploração dos Dados**"
      ]
    },
    {
      "cell_type": "markdown",
      "metadata": {
        "id": "VAbdIV96Un-l",
        "colab_type": "text"
      },
      "source": [
        "Nesta etapa nosso objetivo é conhecer os dados que estamos trabalhando.\n",
        "\n",
        "Podemos a ferramenta **Pandas Profiling** para essa etapa:"
      ]
    },
    {
      "cell_type": "code",
      "metadata": {
        "id": "m_WZthFtUpQE",
        "colab_type": "code",
        "colab": {}
      },
      "source": [
        "# instalando o pandas profiling\n",
        "!pip install https://github.com/pandas-profiling/pandas-profiling/archive/master.zip"
      ],
      "execution_count": 0,
      "outputs": []
    },
    {
      "cell_type": "code",
      "metadata": {
        "id": "S4ghGGxDUuDt",
        "colab_type": "code",
        "colab": {}
      },
      "source": [
        "# executando o profile\n",
        "from pandas_profiling import ProfileReport\n",
        "\n",
        "profile = ProfileReport(data, title='Relatório - Pandas Profiling', html={'style':{'full_width':True}})"
      ],
      "execution_count": 0,
      "outputs": []
    },
    {
      "cell_type": "code",
      "metadata": {
        "id": "dVyKISBJUvy9",
        "colab_type": "code",
        "colab": {}
      },
      "source": [
        "profile"
      ],
      "execution_count": 0,
      "outputs": []
    },
    {
      "cell_type": "markdown",
      "metadata": {
        "id": "9JbWhBkVUxkW",
        "colab_type": "text"
      },
      "source": [
        "**Observações**\n",
        "\n",
        "*   *O coeficiente de correlação varia de `-1` a `1`. \n",
        "Se valor é próximo de 1, isto significa que existe uma forte correlação positiva entre as variáveis. Quando esse número é próximo de -1, as variáveis tem uma forte correlação negativa.*\n",
        "\n",
        "*   *A relatório que executamos acima nos mostra que a nossa variável alvo (**MEDV**) é fortemente correlacionada com as variáveis `LSTAT` e `RM`*\n",
        "\n",
        "*   *`RAD` e `TAX` são fortemente correlacionadas, podemos remove-las do nosso modelo para evitar a multi-colinearidade.*\n",
        "\n",
        "*   *O mesmo acontece com as colunas `DIS` and `AGE` a qual tem a correlação de -0.75*\n",
        "\n",
        "*   *A coluna `ZN` possui 73% de valores zero.*"
      ]
    },
    {
      "cell_type": "code",
      "metadata": {
        "id": "8ShPF9InYWm1",
        "colab_type": "code",
        "colab": {}
      },
      "source": [
        "#Salvando Report no disco\n",
        "profile.to_file(output_file='Report_boston.html')"
      ],
      "execution_count": 0,
      "outputs": []
    },
    {
      "cell_type": "markdown",
      "metadata": {
        "id": "B_riPqCnZXBr",
        "colab_type": "text"
      },
      "source": [
        "###Análise Manual"
      ]
    },
    {
      "cell_type": "code",
      "metadata": {
        "id": "u9hFvq2PUKe5",
        "colab_type": "code",
        "colab": {}
      },
      "source": [
        "data.describe()"
      ],
      "execution_count": 0,
      "outputs": []
    },
    {
      "cell_type": "code",
      "metadata": {
        "id": "oLa2OdcxZAMF",
        "colab_type": "code",
        "colab": {}
      },
      "source": [
        "#Verificar valores missing\n",
        "data.isnull().sum()"
      ],
      "execution_count": 0,
      "outputs": []
    },
    {
      "cell_type": "code",
      "metadata": {
        "id": "G96fe1f5aDO4",
        "colab_type": "code",
        "colab": {}
      },
      "source": [
        "#calcule a correlação\n",
        "correlacoes = data.corr()\n",
        "#HeadMeap do seaborn\n",
        "plt.figure(figsize=(16, 6))\n",
        "sns.heatmap(data=correlacoes, annot=True)"
      ],
      "execution_count": 0,
      "outputs": []
    },
    {
      "cell_type": "markdown",
      "metadata": {
        "id": "uHjdK6ttbhIc",
        "colab_type": "text"
      },
      "source": [
        "Vizualizar relação entre algumas features e a variavel alvo."
      ]
    },
    {
      "cell_type": "code",
      "metadata": {
        "id": "uhWjgkbPbsuM",
        "colab_type": "code",
        "colab": {}
      },
      "source": [
        "#RM vs MEDV(Número de quartos e valor médio do Imovel)\n",
        "import plotly.express as px\n",
        "\n",
        "fig = px.scatter(data, x=data.RM, y=data.MEDV)\n",
        "fig.show()"
      ],
      "execution_count": 0,
      "outputs": []
    },
    {
      "cell_type": "code",
      "metadata": {
        "id": "VpeiPPQHc_e6",
        "colab_type": "code",
        "colab": {}
      },
      "source": [
        "#PTRATIO vs MEDV(Percentual de proporção de alunos para provessores e valor médio do Imovel)\n",
        "fig = px.scatter(data, x=data.PTRATIO, y=data.MEDV)\n",
        "fig.show()"
      ],
      "execution_count": 0,
      "outputs": []
    },
    {
      "cell_type": "markdown",
      "metadata": {
        "id": "EMHjpQ3QeYCO",
        "colab_type": "text"
      },
      "source": [
        "###Analisando Outliers"
      ]
    },
    {
      "cell_type": "code",
      "metadata": {
        "id": "YDECp4TyeVAf",
        "colab_type": "code",
        "colab": {}
      },
      "source": [
        "# estatística descritiva da variável RM\n",
        "data.RM.describe()"
      ],
      "execution_count": 0,
      "outputs": []
    },
    {
      "cell_type": "code",
      "metadata": {
        "id": "zl9dgAoOefks",
        "colab_type": "code",
        "colab": {}
      },
      "source": [
        "# visualizando a distribuição da variável RM\n",
        "import plotly.figure_factory as ff\n",
        "\n",
        "labels = ['Distribuição da variável RM (número de quartos)']\n",
        "fig = ff.create_distplot([data.RM], labels, bin_size=.2)\n",
        "fig.show()"
      ],
      "execution_count": 0,
      "outputs": []
    },
    {
      "cell_type": "code",
      "metadata": {
        "id": "8qJZKUFRekb8",
        "colab_type": "code",
        "colab": {}
      },
      "source": [
        "# Visualizando outliers na variável RM\n",
        "import plotly.express as px\n",
        "\n",
        "fig = px.box(data, y='RM')\n",
        "fig.update_layout( width=800,height=800)\n",
        "fig.show()"
      ],
      "execution_count": 0,
      "outputs": []
    },
    {
      "cell_type": "markdown",
      "metadata": {
        "id": "K0CntuNGeE99",
        "colab_type": "text"
      },
      "source": [
        "Visualizando a distribuição da variável MEDV"
      ]
    },
    {
      "cell_type": "code",
      "metadata": {
        "id": "YwEEQvUfdn-q",
        "colab_type": "code",
        "colab": {}
      },
      "source": [
        "# estatística descritiva da variável MEDV\n",
        "data.MEDV.describe()"
      ],
      "execution_count": 0,
      "outputs": []
    },
    {
      "cell_type": "code",
      "metadata": {
        "id": "0qFxXZjjeIW1",
        "colab_type": "code",
        "colab": {}
      },
      "source": [
        "# visualizando a distribuição da variável MEDV\n",
        "import plotly.figure_factory as ff\n",
        "\n",
        "labels = ['Distribuição da variável MEDV (preço médio do imóvel)']\n",
        "fig = ff.create_distplot([data.MEDV], labels, bin_size=.2)\n",
        "fig.show()"
      ],
      "execution_count": 0,
      "outputs": []
    },
    {
      "cell_type": "markdown",
      "metadata": {
        "id": "tU5eQjzXerGs",
        "colab_type": "text"
      },
      "source": [
        "Analisando a simetria do dado"
      ]
    },
    {
      "cell_type": "code",
      "metadata": {
        "id": "74ZNjF-BgJk4",
        "colab_type": "code",
        "colab": {}
      },
      "source": [
        "#Imprime o coeficiente de pearson\n",
        "from scipy import stats\n",
        "\n",
        "stats.skew(data.MEDV)"
      ],
      "execution_count": 0,
      "outputs": []
    },
    {
      "cell_type": "markdown",
      "metadata": {
        "id": "JBtg70INgdja",
        "colab_type": "text"
      },
      "source": [
        "Coeficiente de Pearson\n",
        "*   Valor entre -1 e 1 - distribuição simétrica.\n",
        "*   Valor maior que 1 - distribuição assimétrica positiva.\n",
        "*   Valor maior que -1 - distribuição assimétrica negativa."
      ]
    },
    {
      "cell_type": "code",
      "metadata": {
        "id": "CkRxhirRgzdE",
        "colab_type": "code",
        "colab": {}
      },
      "source": [
        "# Histogram da variável MEDV (variável alvo)\n",
        "fig = px.histogram(data, x=\"MEDV\", nbins=50, opacity=0.50)\n",
        "fig.show()"
      ],
      "execution_count": 0,
      "outputs": []
    },
    {
      "cell_type": "code",
      "metadata": {
        "id": "Zit4Wy7zg8-g",
        "colab_type": "code",
        "colab": {}
      },
      "source": [
        "# Visualizando outliers na variável MEDV\n",
        "import plotly.express as px\n",
        "\n",
        "fig = px.box(data, y='MEDV')\n",
        "fig.update_layout( width=800,height=800)\n",
        "fig.show()"
      ],
      "execution_count": 0,
      "outputs": []
    },
    {
      "cell_type": "code",
      "metadata": {
        "id": "V52ruy4jhAkn",
        "colab_type": "code",
        "colab": {}
      },
      "source": [
        "# estatistica descritiva das variáveis\n",
        "data[['PTRATIO','LSTAT','RM']].describe()"
      ],
      "execution_count": 0,
      "outputs": []
    },
    {
      "cell_type": "code",
      "metadata": {
        "id": "HjH9zgLThDUu",
        "colab_type": "code",
        "colab": {}
      },
      "source": [
        "# imprimindo os 16 maiores valores de MEDV\n",
        "data[['RM','LSTAT','PTRATIO','MEDV']].nlargest(16, 'MEDV')"
      ],
      "execution_count": 0,
      "outputs": []
    },
    {
      "cell_type": "markdown",
      "metadata": {
        "id": "Ve3Fr65xmc7t",
        "colab_type": "text"
      },
      "source": [
        "###Removendo Outliers"
      ]
    },
    {
      "cell_type": "code",
      "metadata": {
        "id": "ju0x2Kc5hGvx",
        "colab_type": "code",
        "colab": {}
      },
      "source": [
        "# filtra os top 16 maiores registro da coluna MEDV\n",
        "top16 = data.nlargest(16, 'MEDV').index"
      ],
      "execution_count": 0,
      "outputs": []
    },
    {
      "cell_type": "code",
      "metadata": {
        "id": "edoEJR-6hI2f",
        "colab_type": "code",
        "colab": {}
      },
      "source": [
        "# remove os valores listados em top16\n",
        "data.drop(top16, inplace=True)"
      ],
      "execution_count": 0,
      "outputs": []
    },
    {
      "cell_type": "code",
      "metadata": {
        "id": "s18ohwpshKsa",
        "colab_type": "code",
        "colab": {}
      },
      "source": [
        "# visualizando a distribuição da variável MEDV\n",
        "import plotly.figure_factory as ff\n",
        "\n",
        "labels = ['Distribuição da variável MEDV (número de quartos)']\n",
        "fig = ff.create_distplot([data.MEDV], labels, bin_size=.2)\n",
        "fig.show()"
      ],
      "execution_count": 0,
      "outputs": []
    },
    {
      "cell_type": "code",
      "metadata": {
        "id": "3iP1zqQ8hNZX",
        "colab_type": "code",
        "colab": {}
      },
      "source": [
        "# Histogram da variável MEDV (variável alvo)\n",
        "fig = px.histogram(data, x=\"MEDV\", nbins=50, opacity=0.50)\n",
        "fig.show()"
      ],
      "execution_count": 0,
      "outputs": []
    },
    {
      "cell_type": "code",
      "metadata": {
        "id": "EDJL4nYshP6K",
        "colab_type": "code",
        "colab": {}
      },
      "source": [
        "# imprime o coeficiente de pearson\n",
        "stats.skew(data.MEDV)"
      ],
      "execution_count": 0,
      "outputs": []
    },
    {
      "cell_type": "markdown",
      "metadata": {
        "id": "as9HpeDuhVIB",
        "colab_type": "text"
      },
      "source": [
        "## **Definindo um Baseline**\n",
        "\n",
        "- Uma baseline é importante para ter marcos no projeto.\n",
        "- Permite uma explicação fácil para todos os envolvidos.\n",
        "- É algo que sempre tentaremos ganhar na medida do possível."
      ]
    },
    {
      "cell_type": "code",
      "metadata": {
        "id": "pVjztHZjhWdG",
        "colab_type": "code",
        "colab": {}
      },
      "source": [
        "#converter Dados\n",
        "data.RM =data.RM.astype(int)"
      ],
      "execution_count": 0,
      "outputs": []
    },
    {
      "cell_type": "code",
      "metadata": {
        "id": "KGbA5cXujO8L",
        "colab_type": "code",
        "colab": {}
      },
      "source": [
        "data.info()"
      ],
      "execution_count": 0,
      "outputs": []
    },
    {
      "cell_type": "code",
      "metadata": {
        "id": "IxQdBQufjcay",
        "colab_type": "code",
        "colab": {}
      },
      "source": [
        "#Definindo a regra para categorizar os dados\n",
        "categorias = []"
      ],
      "execution_count": 0,
      "outputs": []
    },
    {
      "cell_type": "code",
      "metadata": {
        "id": "Q5aI0GGRjiJH",
        "colab_type": "code",
        "colab": {}
      },
      "source": [
        "#Alimenta a lista de Categorias\n",
        "for i in data.RM.iteritems():\n",
        "  valor = (i[1])\n",
        "  if valor <= 4:\n",
        "    categorias.append('Pequeno')\n",
        "  elif valor < 7:\n",
        "    categorias.append('Médio')\n",
        "  else:\n",
        "    categorias.append('Grande')"
      ],
      "execution_count": 0,
      "outputs": []
    },
    {
      "cell_type": "code",
      "metadata": {
        "id": "nGUyxMX0knj3",
        "colab_type": "code",
        "colab": {}
      },
      "source": [
        "#Cria a categoria Categorias\n",
        "data['categorias'] = categorias"
      ],
      "execution_count": 0,
      "outputs": []
    },
    {
      "cell_type": "code",
      "metadata": {
        "id": "pdRuFGtpk11p",
        "colab_type": "code",
        "colab": {}
      },
      "source": [
        "# Imprime a contagem de categorias\n",
        "data.categorias.value_counts()"
      ],
      "execution_count": 0,
      "outputs": []
    },
    {
      "cell_type": "code",
      "metadata": {
        "id": "uvAroAfLlaAQ",
        "colab_type": "code",
        "colab": {}
      },
      "source": [
        "#Agrupar as categorias e caucular as médias\n",
        "medias_categorias = data.groupby(by='categorias')['MEDV'].mean()"
      ],
      "execution_count": 0,
      "outputs": []
    },
    {
      "cell_type": "code",
      "metadata": {
        "id": "XUoma0HCmU8O",
        "colab_type": "code",
        "colab": {}
      },
      "source": [
        "#Vizualizando a variavel medias_categoricas\n",
        "medias_categorias"
      ],
      "execution_count": 0,
      "outputs": []
    },
    {
      "cell_type": "code",
      "metadata": {
        "id": "UAzqrVrSmvyF",
        "colab_type": "code",
        "colab": {}
      },
      "source": [
        "#Criando o dicionario com chames médio, grande e pequeno e seus valores\n",
        "dic_baseline = {'Grande': medias_categorias[0], 'Médio': medias_categorias[1], 'Pequeno': medias_categorias[2]}\n",
        "dic_baseline"
      ],
      "execution_count": 0,
      "outputs": []
    },
    {
      "cell_type": "code",
      "metadata": {
        "id": "Fx0Vs18nndIa",
        "colab_type": "code",
        "colab": {}
      },
      "source": [
        "#Cria a função retorna baseline\n",
        "def retorna_baseline(num_quartos):\n",
        "  if num_quartos <= 4:\n",
        "    return dic_baseline.get('Pequeno')\n",
        "  elif num_quartos < 7:\n",
        "    return dic_baseline.get('Médio')\n",
        "  else:\n",
        "    return dic_baseline.get('Grande')"
      ],
      "execution_count": 0,
      "outputs": []
    },
    {
      "cell_type": "code",
      "metadata": {
        "id": "FCYBqMMloVjB",
        "colab_type": "code",
        "colab": {}
      },
      "source": [
        "#Chama funçaõ retorna baseline\n",
        "retorna_baseline(1)"
      ],
      "execution_count": 0,
      "outputs": []
    },
    {
      "cell_type": "code",
      "metadata": {
        "id": "8Tk8sAiapY28",
        "colab_type": "code",
        "colab": {}
      },
      "source": [
        "for i in data.RM.iteritems():\n",
        "  n_quartos = i[1]\n",
        "  print('Numero de Quartos é:', (n_quartos,' e o valor médio é:', retorna_baseline(n_quartos)))"
      ],
      "execution_count": 0,
      "outputs": []
    },
    {
      "cell_type": "code",
      "metadata": {
        "id": "AiKCVoYeqd80",
        "colab_type": "code",
        "colab": {}
      },
      "source": [
        "data.head()"
      ],
      "execution_count": 0,
      "outputs": []
    },
    {
      "cell_type": "markdown",
      "metadata": {
        "id": "ZUZ5uMhdue1H",
        "colab_type": "text"
      },
      "source": [
        "Preparando os dados"
      ]
    },
    {
      "cell_type": "code",
      "metadata": {
        "id": "slg3rrY8ueKt",
        "colab_type": "code",
        "colab": {}
      },
      "source": [
        "X = data.drop(['RAD', 'TAX', 'MEDV','DIS', 'AGE', 'ZN', 'categorias'], axis=1)\n",
        "y = data['MEDV']"
      ],
      "execution_count": 0,
      "outputs": []
    },
    {
      "cell_type": "code",
      "metadata": {
        "id": "1Me9my8GuNXL",
        "colab_type": "code",
        "colab": {}
      },
      "source": [
        "X.head()"
      ],
      "execution_count": 0,
      "outputs": []
    },
    {
      "cell_type": "markdown",
      "metadata": {
        "id": "xk1vKEiAvyUf",
        "colab_type": "text"
      },
      "source": [
        "##Separa conjunto de dados"
      ]
    },
    {
      "cell_type": "code",
      "metadata": {
        "id": "wbvnbfzovtfF",
        "colab_type": "code",
        "colab": {}
      },
      "source": [
        "from sklearn.model_selection import train_test_split\n",
        "\n",
        "X_train, X_test, y_train, y_test = train_test_split(X, y, test_size=0.2, random_state=5)"
      ],
      "execution_count": 0,
      "outputs": []
    },
    {
      "cell_type": "markdown",
      "metadata": {
        "id": "60J8WuZ3xdhg",
        "colab_type": "text"
      },
      "source": [
        "##Machine Learning"
      ]
    },
    {
      "cell_type": "markdown",
      "metadata": {
        "id": "2BbH_B0uxBiC",
        "colab_type": "text"
      },
      "source": [
        "###Modelo Baseline"
      ]
    },
    {
      "cell_type": "code",
      "metadata": {
        "id": "kGIHr0uWxDgB",
        "colab_type": "code",
        "colab": {}
      },
      "source": [
        "#Definindo a lista de predições\n",
        "predicoes = []"
      ],
      "execution_count": 0,
      "outputs": []
    },
    {
      "cell_type": "code",
      "metadata": {
        "id": "HUWjhEV8xkZL",
        "colab_type": "code",
        "colab": {}
      },
      "source": [
        "#Para cada elemento do teste alimenta a lista de predicoes\n",
        "for i in X_test.RM.iteritems():\n",
        "  n_quartos = i[1]\n",
        "  predicoes.append(retorna_baseline(n_quartos))"
      ],
      "execution_count": 0,
      "outputs": []
    },
    {
      "cell_type": "code",
      "metadata": {
        "id": "ZiR7AcBiyI-j",
        "colab_type": "code",
        "colab": {}
      },
      "source": [
        "predicoes[:10]"
      ],
      "execution_count": 0,
      "outputs": []
    },
    {
      "cell_type": "code",
      "metadata": {
        "id": "kxYmPW9aydRi",
        "colab_type": "code",
        "colab": {}
      },
      "source": [
        "#Cria datafrae vazio\n",
        "df_results = pd.DataFrame()"
      ],
      "execution_count": 0,
      "outputs": []
    },
    {
      "cell_type": "code",
      "metadata": {
        "id": "JUG2U4G4yrSQ",
        "colab_type": "code",
        "colab": {}
      },
      "source": [
        "#Adiciona o valor real\n",
        "df_results['valor_real'] = y_test.values"
      ],
      "execution_count": 0,
      "outputs": []
    },
    {
      "cell_type": "code",
      "metadata": {
        "id": "tD3joeU7y3sl",
        "colab_type": "code",
        "colab": {}
      },
      "source": [
        "#Adiciona valor baseline\n",
        "df_results['valor_baseline'] = predicoes"
      ],
      "execution_count": 0,
      "outputs": []
    },
    {
      "cell_type": "code",
      "metadata": {
        "id": "oYtqULmSzEYe",
        "colab_type": "code",
        "colab": {}
      },
      "source": [
        "df_results.head()"
      ],
      "execution_count": 0,
      "outputs": []
    },
    {
      "cell_type": "markdown",
      "metadata": {
        "id": "LhQhFzRPzVjM",
        "colab_type": "text"
      },
      "source": [
        "Plotar o valor real e o baseline"
      ]
    },
    {
      "cell_type": "code",
      "metadata": {
        "id": "UNbep5y7zTtQ",
        "colab_type": "code",
        "colab": {}
      },
      "source": [
        "import plotly.graph_objects as go\n",
        "\n",
        "# Create traces\n",
        "fig = go.Figure()\n",
        "\n",
        "# Linha com os dados de teste\n",
        "fig.add_trace(go.Scatter(x=df_results.index,\n",
        "                         y=df_results.valor_real,\n",
        "                         mode='lines+markers',\n",
        "                         name='Valor Real'))\n",
        "\n",
        "# Linha com os dados preditos\n",
        "fig.add_trace(go.Scatter(x=df_results.index,\n",
        "                         y=df_results.valor_baseline,\n",
        "                         mode='lines+markers',\n",
        "                         name='Valor Baseline'))\n",
        "# Plota a figura\n",
        "fig.show()"
      ],
      "execution_count": 0,
      "outputs": []
    },
    {
      "cell_type": "code",
      "metadata": {
        "id": "Ll_qodyn0Doa",
        "colab_type": "code",
        "colab": {}
      },
      "source": [
        "# calcula a métrica rmse\n",
        "from sklearn.metrics import mean_squared_error\n",
        "from math import sqrt\n",
        "\n",
        "rmse = (np.sqrt(mean_squared_error(y_test, predicoes)))"
      ],
      "execution_count": 0,
      "outputs": []
    },
    {
      "cell_type": "code",
      "metadata": {
        "id": "48Uwm9770IKa",
        "colab_type": "code",
        "colab": {}
      },
      "source": [
        "# imprime a performance do modelo\n",
        "print ('Performance do modelo baseline:')\n",
        "print('\\nRMSE é: {} '.format(rmse)) "
      ],
      "execution_count": 0,
      "outputs": []
    },
    {
      "cell_type": "markdown",
      "metadata": {
        "id": "yY6EsTXExgvl",
        "colab_type": "text"
      },
      "source": [
        "###Modelo Regressão Linear"
      ]
    },
    {
      "cell_type": "markdown",
      "metadata": {
        "id": "9Dv2zsZBx7UR",
        "colab_type": "text"
      },
      "source": [
        "- Devido a correlação entre algumas features podemos usar uma regressão linear.\n",
        "- Modelo simples e eficiente.\n",
        "- Solução rápida e robusta.\n"
      ]
    },
    {
      "cell_type": "code",
      "metadata": {
        "id": "ZU5Lb1Z3xlaX",
        "colab_type": "code",
        "colab": {}
      },
      "source": [
        "from sklearn.linear_model import LinearRegression\n",
        "\n",
        "#Cria LinearRegression\n",
        "lin_model = LinearRegression()\n",
        "\n",
        "#Treina modelo LinearRegression\n",
        "lin_model.fit(X_train, y_train)\n",
        "\n",
        "#Avalia o Modelo nos dados de teste\n",
        "y_pred = lin_model.predict(X_test)\n"
      ],
      "execution_count": 0,
      "outputs": []
    },
    {
      "cell_type": "code",
      "metadata": {
        "id": "jhqN9lIvNQKQ",
        "colab_type": "code",
        "colab": {}
      },
      "source": [
        "df_results.head(10)"
      ],
      "execution_count": 0,
      "outputs": []
    },
    {
      "cell_type": "code",
      "metadata": {
        "id": "4OVxTU1kLfCQ",
        "colab_type": "code",
        "colab": {}
      },
      "source": [
        "rmse = (np.sqrt(mean_squared_error(y_test, y_pred)))\n",
        "print ('Performance do modelo Regressão Linear:')\n",
        "print('\\nRMSE é: {} '.format(rmse)) "
      ],
      "execution_count": 0,
      "outputs": []
    },
    {
      "cell_type": "code",
      "metadata": {
        "id": "zqqUN1JHL6dD",
        "colab_type": "code",
        "colab": {}
      },
      "source": [
        "# atribui os resultados no dataframe df_results\n",
        "df_results['valor_reg_linear'] = lin_model.predict(X_test)"
      ],
      "execution_count": 0,
      "outputs": []
    },
    {
      "cell_type": "code",
      "metadata": {
        "id": "ZMCB4CJmMFSc",
        "colab_type": "code",
        "colab": {}
      },
      "source": [
        "import plotly.graph_objects as go\n",
        "\n",
        "# Create traces\n",
        "fig = go.Figure()\n",
        "\n",
        "# Linha com os dados de teste\n",
        "fig.add_trace(go.Scatter(x=df_results.index,\n",
        "                         y=df_results.valor_real,\n",
        "                         mode='lines+markers',\n",
        "                         name='Valor Real'))\n",
        "\n",
        "# Linha com os dados de baseline\n",
        "fig.add_trace(go.Scatter(x=df_results.index,\n",
        "                         y=df_results.valor_baseline,\n",
        "                         mode='lines+markers',\n",
        "                         name='Valor Baseline'))\n",
        "\n",
        "# Linha com os dados preditos pela regressão linear\n",
        "fig.add_trace(go.Scatter(x=df_results.index,\n",
        "                         y=df_results.valor_reg_linear,\n",
        "                         mode='lines',\n",
        "                         line = dict(color = '#FEBFB3'),\n",
        "                         name='Valor Regressão Linear'))\n",
        "\n",
        "# Plota a figura\n",
        "fig.show()"
      ],
      "execution_count": 0,
      "outputs": []
    },
    {
      "cell_type": "markdown",
      "metadata": {
        "id": "a1b3efNrNpoo",
        "colab_type": "text"
      },
      "source": [
        "### Modelo Arvore de decisão\n",
        "\n",
        "*   Algoritmo de aprendizado supervisionado\n",
        "*   Explicabilidade do Modelo\n",
        "*   Simples`"
      ]
    },
    {
      "cell_type": "code",
      "metadata": {
        "id": "GXKWZXj5OheX",
        "colab_type": "code",
        "colab": {}
      },
      "source": [
        "from sklearn.tree import DecisionTreeRegressor\n",
        "\n",
        "#Criar Algoritimo DecisiontreeRegressor\n",
        "regressor = DecisionTreeRegressor()\n",
        "\n",
        "#Treina o modelo\n",
        "regressor.fit(X_train, y_train)\n",
        "\n",
        "#Fazendo Previsões\n",
        "y_pred = regressor.predict(X_test)"
      ],
      "execution_count": 0,
      "outputs": []
    },
    {
      "cell_type": "code",
      "metadata": {
        "id": "xF1DOjy3POfn",
        "colab_type": "code",
        "colab": {}
      },
      "source": [
        "#Adicionar o valor do modelo no dataframe df_results\n",
        "df_results['Valor_Arvore_Decisao'] = y_pred"
      ],
      "execution_count": 0,
      "outputs": []
    },
    {
      "cell_type": "code",
      "metadata": {
        "id": "mHglfYBTPfHN",
        "colab_type": "code",
        "colab": {}
      },
      "source": [
        "df_results.head(10)"
      ],
      "execution_count": 0,
      "outputs": []
    },
    {
      "cell_type": "code",
      "metadata": {
        "id": "1iqDqNRiPnBN",
        "colab_type": "code",
        "colab": {}
      },
      "source": [
        "import plotly.graph_objects as go\n",
        "\n",
        "# cria uma figura\n",
        "fig = go.Figure()\n",
        "\n",
        "# Linha com os dados de teste\n",
        "fig.add_trace(go.Scatter(x=df_results.index,\n",
        "                         y=df_results.valor_real,\n",
        "                         mode='lines+markers',\n",
        "                         name='Valor Real'))\n",
        "\n",
        "# Linha com os dados de teste\n",
        "fig.add_trace(go.Scatter(x=df_results.index,\n",
        "                         y=df_results.valor_baseline,\n",
        "                         mode='lines+markers',\n",
        "                         name='Valor Baseline'))\n",
        "\n",
        "\n",
        "# Linha com os dados de teste\n",
        "fig.add_trace(go.Scatter(x=df_results.index,\n",
        "                         y=df_results.valor_reg_linear,\n",
        "                         mode='lines+markers',\n",
        "                         name='Valor Regressão Linear'))\n",
        "\n",
        "# Linha com os dados preditos\n",
        "fig.add_trace(go.Scatter(x=df_results.index,\n",
        "                         y=df_results.Valor_Arvore_Decisao,\n",
        "                         mode='lines+markers',\n",
        "                         name='Valor Arvore de Decisão'))\n",
        "# Plota a figura\n",
        "fig.show()"
      ],
      "execution_count": 0,
      "outputs": []
    },
    {
      "cell_type": "code",
      "metadata": {
        "id": "fmXIvOBvQPh0",
        "colab_type": "code",
        "colab": {}
      },
      "source": [
        "# calcula a métrica rmse\n",
        "rmse = (np.sqrt(mean_squared_error(y_test, y_pred)))\n",
        "\n",
        "# imprime a performance do modelo\n",
        "print ('Performance do modelo avaliado com os dados de teste:')\n",
        "print('\\nRMSE é: {} '.format(rmse))"
      ],
      "execution_count": 0,
      "outputs": []
    },
    {
      "cell_type": "markdown",
      "metadata": {
        "id": "9vs2zf_w8dSy",
        "colab_type": "text"
      },
      "source": [
        "### Random Forest\n",
        "\n",
        "- Método Ensemble\n",
        "- Mais robustez para os modelos\n",
        "\n",
        "\n",
        "Parâmetros da Random Forest\n",
        "\n",
        "- O parâmetro n_estimators define a quantidade de árvores que serão usadas para criação dos modelos. Quanto maior o número de árvores, maior será o número de modelos no ensemble.\n",
        "\n",
        "- O parâmtro max_deph define a profundidade da árvore, quanto mais profunda a árvore, mais especializado nos dados de treino o nosso modelo estará.\n",
        "\n",
        "- O parâmetro max_features define a quantidade máxima de nós que serão usados para separar os níveis folha da árvore"
      ]
    },
    {
      "cell_type": "code",
      "metadata": {
        "id": "OTVvGhLw8iWd",
        "colab_type": "code",
        "colab": {}
      },
      "source": [
        "from sklearn.ensemble import RandomForestRegressor\n",
        "\n",
        "#Criar o algoritimo RandomForestRegressor\n",
        "rf_regressor = RandomForestRegressor()\n",
        "\n",
        "#Treina o modelo\n",
        "rf_regressor.fit(X_train, y_train)\n",
        "\n",
        "#Previsão do meu modelo\n",
        "y_pred = rf_regressor.predict(X_test)"
      ],
      "execution_count": 0,
      "outputs": []
    },
    {
      "cell_type": "code",
      "metadata": {
        "id": "4iivywdM9332",
        "colab_type": "code",
        "colab": {}
      },
      "source": [
        "# adiciona os resultados no dataframe df_results\n",
        "df_results['Valor_Random_forest'] = y_pred"
      ],
      "execution_count": 0,
      "outputs": []
    },
    {
      "cell_type": "code",
      "metadata": {
        "id": "_nTc4Sv--FGs",
        "colab_type": "code",
        "colab": {}
      },
      "source": [
        "#Calcula a metrica RMSE\n",
        "rmse = (np.sqrt(mean_squared_error(y_test, y_pred)))"
      ],
      "execution_count": 0,
      "outputs": []
    },
    {
      "cell_type": "code",
      "metadata": {
        "id": "9MuU4qgW-eDa",
        "colab_type": "code",
        "colab": {}
      },
      "source": [
        "# imprime a performance do modelo\n",
        "print ('Performance do modelo avaliado com os dados de teste:')\n",
        "print('\\nRMSE é: {} '.format(rmse))"
      ],
      "execution_count": 0,
      "outputs": []
    },
    {
      "cell_type": "code",
      "metadata": {
        "id": "SMYWajro-gGy",
        "colab_type": "code",
        "colab": {}
      },
      "source": [
        "# plota os resultados dos modelos e o valor real.\n",
        "import plotly.graph_objects as go\n",
        "\n",
        "# Create traces\n",
        "fig = go.Figure()\n",
        "\n",
        "# Linha com os dados de teste\n",
        "fig.add_trace(go.Scatter(x=df_results.index,\n",
        "                         y=df_results.valor_real,\n",
        "                         mode='lines+markers',\n",
        "                         name='Valor Real'))\n",
        "\n",
        "# Linha com os dados de teste\n",
        "fig.add_trace(go.Scatter(x=df_results.index,\n",
        "                         y=df_results.valor_baseline,\n",
        "                         mode='lines+markers',\n",
        "                         name='Valor Baseline'))\n",
        "\n",
        "\n",
        "# Linha com os dados preditos pela arvore\n",
        "fig.add_trace(go.Scatter(x=df_results.index,\n",
        "                         y=df_results.Valor_Arvore_Decisao,\n",
        "                         mode='lines',\n",
        "                         line = dict(color = '#B2FF66'),\n",
        "                         name='Valor Árvore Decisão'))\n",
        "\n",
        "# Linha com os dados preditos pela regressão linear\n",
        "fig.add_trace(go.Scatter(x=df_results.index,\n",
        "                         y=df_results.valor_reg_linear,\n",
        "                         mode='lines',\n",
        "                         line = dict(color = '#17BECF'),\n",
        "                         name='Valor Regressão Linear'))\n",
        "\n",
        "\n",
        "# Linha com os dados preditos pela Random Forest\n",
        "fig.add_trace(go.Scatter(x=df_results.index,\n",
        "                         y=df_results.Valor_Random_forest,\n",
        "                         mode='lines',\n",
        "                         line = dict(color = '#7F7F7F'),\n",
        "                         name='Valor Random Forest'))\n",
        "\n",
        "# Plota a figura\n",
        "fig.show()"
      ],
      "execution_count": 0,
      "outputs": []
    }
  ]
}