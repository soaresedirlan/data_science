{
  "nbformat": 4,
  "nbformat_minor": 0,
  "metadata": {
    "colab": {
      "name": "titanic_previsao_sobrevivencia.ipynb",
      "provenance": [],
      "authorship_tag": "ABX9TyPVNBSdu3J6NEatXGNchZyG",
      "include_colab_link": true
    },
    "kernelspec": {
      "name": "python3",
      "display_name": "Python 3"
    }
  },
  "cells": [
    {
      "cell_type": "markdown",
      "metadata": {
        "id": "view-in-github",
        "colab_type": "text"
      },
      "source": [
        "<a href=\"https://colab.research.google.com/github/soaresedirlan/data_science/blob/master/titanic_previsao_sobrevivencia.ipynb\" target=\"_parent\"><img src=\"https://colab.research.google.com/assets/colab-badge.svg\" alt=\"Open In Colab\"/></a>"
      ]
    },
    {
      "cell_type": "markdown",
      "metadata": {
        "id": "y98zozLFftZY",
        "colab_type": "text"
      },
      "source": [
        "#**Titanic: Machine Learning**"
      ]
    },
    {
      "cell_type": "markdown",
      "metadata": {
        "id": "JwRqEgqVfuAe",
        "colab_type": "text"
      },
      "source": [
        "![alt text](https://aventurasnahistoria.uol.com.br/media/_versions/titanic_cgzvpEm_widelg.jpg)"
      ]
    },
    {
      "cell_type": "markdown",
      "metadata": {
        "id": "zDxRThCdfwiO",
        "colab_type": "text"
      },
      "source": [
        "Após colidir com um iceberg em 15 de abril de 1912, seu naufrágio matou 1.502 pessoas de um total de 2.224 passageiros.\n",
        "\n",
        "Como principal fator contribuinte, logo se descobriu que não havia botes salva-vidas suficientes para toda a tripulação e passageiros.\n",
        "\n",
        "Obviamente, aqueles que sobreviveram à tragédia contaram com muita sorte, mas será que alguns grupos de passageiros não tiveram \"mais sorte\" que outros grupos? Será que crianças e mulheres realmente tiveram mais chances de sobreviver? Será que o Jack teve menos chances de escapar do seu destino trágico que a Rose, só pelo fato de ele ter embarcado na 3ª Classe?\n",
        "\n",
        "Com os dados reais disponibilizados, agora você pode fazer uma análise exploratória, testar suas hipóteses e até mesmo construir um modelo preditivo (que tal descobrir quais seriam suas chances de sobrevivência na 1ª Classe se você tivesse viajado com sua esposa e filho?!)\n",
        "\n",
        "**Resumidamente, o objetivo deste desafio é utilizar os dados disponíveis para medir a chance de sobrevivência dos passageiros do Titanic.**\n",
        "\n",
        "\n"
      ]
    },
    {
      "cell_type": "markdown",
      "metadata": {
        "id": "0I5_rWHxfzJe",
        "colab_type": "text"
      },
      "source": [
        "## Definição do Problema\n",
        "\n",
        "A construção do Titanic levou cerca de 2 anos e custou 7,5 milhões de dólares (valores da época). Com 269 metros de comprimento, 28 metros de largura e 53 metros de altura, operava com uma tripulação de 892 pessoas e poderia levar até 2435 passageiros (espalhados pelas três classes disponíveis).\n",
        "\n",
        "Pensado para ser o mais seguro e luxuoso navio da época, foi lançado ao mar em 1911, ganhando fama de ser \"inafundável\".\n",
        "\n",
        "A descrição completa da competição, assim como o conjunto de dados, está disponível na página do Kaggle [Titanic: Machine Learning from Disaster](https://www.kaggle.com/c/titanic).\n",
        "\n",
        "O naufrágio do Titanic teve como fatores contribuintes causas naturais (como o clima) e causas humanas (negligência e excesso de confiança). Independente das causas, o fato é que seu naufrágio matou 1502 pessoas de um total de 2224 passageiros.\n",
        "\n",
        "Embora aqueles que escaparam com vida tiveram sua boa dose de sorte, alguns grupos de pessoas eram mais propensos a escaparem da morte do que outros. Por exemplo, mulheres, crianças e passageiros da 1ª Classe. Assim, nota-se que existe algum padrão que pode ser extraído dos dados brutos.\n",
        "\n",
        "### Objetivo\n",
        "**Análise sobre quais variáveis tiveram maior influência na probabilidade de sobrevivência** (ou seja, que tipo de pessoa teve mais chance de escapar com vida).\n",
        "\n",
        "Após analisar os dados, foi criado **um modelo que mostra a previsão de sobrevivência** para um passageiro qualquer que seja fornecido como *input*.\n",
        "\n"
      ]
    },
    {
      "cell_type": "markdown",
      "metadata": {
        "id": "bKdMqvLLgWAh",
        "colab_type": "text"
      },
      "source": [
        "## Obtenção dos Dados\n",
        "\n",
        "Os dados disponibilizados no meu gitHub: https://bit.ly/2UerXa6.\n",
        "    \n"
      ]
    },
    {
      "cell_type": "code",
      "metadata": {
        "id": "LJj5G8wYg1Rd",
        "colab_type": "code",
        "colab": {}
      },
      "source": [
        "#Montar o seu drive.\n",
        "from google.colab import drive\n",
        "drive.mount('/content/drive')"
      ],
      "execution_count": null,
      "outputs": []
    },
    {
      "cell_type": "code",
      "metadata": {
        "id": "qD_fKoVCitQA",
        "colab_type": "code",
        "colab": {}
      },
      "source": [
        "#Importar bibliotecas necessárias\n",
        "import pandas as pd\n",
        "import numpy as np\n",
        "import matplotlib.pyplot as plt\n",
        "import seaborn as sns\n",
        "\n",
        "#Permitir vizualiza todas as colunas\n",
        "pd.options.display.max_columns = None\n",
        "\n",
        "#Renderizar o grafico direto no notebook\n",
        "%matplotlib inline"
      ],
      "execution_count": null,
      "outputs": []
    },
    {
      "cell_type": "code",
      "metadata": {
        "id": "2GhPjMldjVPo",
        "colab_type": "code",
        "colab": {}
      },
      "source": [
        "titanic = pd.read_csv('/content/drive/My Drive/data_science/datasets/titanic.csv')"
      ],
      "execution_count": null,
      "outputs": []
    },
    {
      "cell_type": "markdown",
      "metadata": {
        "id": "FC9YOv-FZ_aX",
        "colab_type": "text"
      },
      "source": [
        "## Exploração dos Dados\n",
        "\n",
        "Em uma análise inicial, serão estudadas cada variável. É importante verificar seu nome, tipo, porcentagem de valores faltantes, presença de outliers e tipo de distribuição.\n",
        "\n",
        "Como se trata de um Aprendizado Supervisionado (*Supervised Learning*), a variável ```Survived``` é definida como sendo a nossa variável alvo (*target*)."
      ]
    },
    {
      "cell_type": "markdown",
      "metadata": {
        "id": "znmIsqoDaL4S",
        "colab_type": "text"
      },
      "source": [
        "### Dicionário de Dados\n",
        "\n",
        "* **PassengerId:** Número de identificação do passageiro\n",
        "* **Survived:** Informa se o passageiro sobreviveu ao desastre\n",
        "    * 0 = Não\n",
        "    * 1 = Sim\n",
        "* **Pclass:** Classe do bilhete\n",
        "    * 1 = 1ª Classe\n",
        "    * 2 = 2ª Classe\n",
        "    * 3 = 3ª Classe\n",
        "* **Name:** Nome do passageiro\n",
        "* **Sex:** Sexo do passageiro\n",
        "* **Age:** Idade do passageiro\n",
        "* **SibSp:** Quantidade de cônjuges e irmãos a bordo\n",
        "* **Parch:** Quantidade de pais e filhos a bordo\n",
        "* **Ticket:** Número da passagem\n",
        "* **Fare:** Preço da Passagem\n",
        "* **Cabin:** Número da cabine do passageiro\n",
        "* **Embarked:** Porto no qual o passageiro embarcou\n",
        "    * 1 - C = Cherbourg\n",
        "    * 2 - Q = Queenstown\n",
        "    * 3 - S = Southampton"
      ]
    },
    {
      "cell_type": "markdown",
      "metadata": {
        "id": "Z2TAn7uIabGx",
        "colab_type": "text"
      },
      "source": [
        "**Quais os tipos de cada variável?**\n",
        "\n",
        "* Variáveis Numéricas\n",
        "    * Discretas\n",
        "        * Pclass\n",
        "        * SibSp\n",
        "        * Parch\n",
        "    * Contínuas\n",
        "        * Age\n",
        "        * Fare\n",
        "    * Alvo\n",
        "        * Survived\n",
        "    * Chave Primária\n",
        "        * PassengerId\n",
        "* Variáveis Categóricas\n",
        "    * Name\n",
        "    * Sex\n",
        "    * Ticket\n",
        "    * Cabin\n",
        "    * Embarked"
      ]
    },
    {
      "cell_type": "code",
      "metadata": {
        "id": "__NgBCPFZHZF",
        "colab_type": "code",
        "colab": {}
      },
      "source": [
        "#Verificando as dimensões do dataframe\n",
        "print(\"Colunas:\\t{}\\nRegistros:\\t{}\".format(titanic.shape[1], titanic.shape[0]))"
      ],
      "execution_count": null,
      "outputs": []
    },
    {
      "cell_type": "code",
      "metadata": {
        "id": "Ltjl29koaeZJ",
        "colab_type": "code",
        "colab": {
          "base_uri": "https://localhost:8080/",
          "height": 204
        },
        "outputId": "ddbb4755-b172-455a-baa7-97384b006ed2"
      },
      "source": [
        "#Ver as 5 primeiras entradas do conjunto de dados\n",
        "display(titanic.head())"
      ],
      "execution_count": null,
      "outputs": [
        {
          "output_type": "display_data",
          "data": {
            "text/html": [
              "<div>\n",
              "<style scoped>\n",
              "    .dataframe tbody tr th:only-of-type {\n",
              "        vertical-align: middle;\n",
              "    }\n",
              "\n",
              "    .dataframe tbody tr th {\n",
              "        vertical-align: top;\n",
              "    }\n",
              "\n",
              "    .dataframe thead th {\n",
              "        text-align: right;\n",
              "    }\n",
              "</style>\n",
              "<table border=\"1\" class=\"dataframe\">\n",
              "  <thead>\n",
              "    <tr style=\"text-align: right;\">\n",
              "      <th></th>\n",
              "      <th>PassengerId</th>\n",
              "      <th>Pclass</th>\n",
              "      <th>Name</th>\n",
              "      <th>Sex</th>\n",
              "      <th>Age</th>\n",
              "      <th>SibSp</th>\n",
              "      <th>Parch</th>\n",
              "      <th>Ticket</th>\n",
              "      <th>Fare</th>\n",
              "      <th>Cabin</th>\n",
              "      <th>Embarked</th>\n",
              "      <th>Survived</th>\n",
              "    </tr>\n",
              "  </thead>\n",
              "  <tbody>\n",
              "    <tr>\n",
              "      <th>0</th>\n",
              "      <td>1</td>\n",
              "      <td>3</td>\n",
              "      <td>Braund, Mr. Owen Harris</td>\n",
              "      <td>male</td>\n",
              "      <td>22.0</td>\n",
              "      <td>1</td>\n",
              "      <td>0</td>\n",
              "      <td>A/5 21171</td>\n",
              "      <td>7.2500</td>\n",
              "      <td>NaN</td>\n",
              "      <td>3.0</td>\n",
              "      <td>0.0</td>\n",
              "    </tr>\n",
              "    <tr>\n",
              "      <th>1</th>\n",
              "      <td>2</td>\n",
              "      <td>1</td>\n",
              "      <td>Cumings, Mrs. John Bradley (Florence Briggs Th...</td>\n",
              "      <td>female</td>\n",
              "      <td>38.0</td>\n",
              "      <td>1</td>\n",
              "      <td>0</td>\n",
              "      <td>PC 17599</td>\n",
              "      <td>71.2833</td>\n",
              "      <td>C85</td>\n",
              "      <td>1.0</td>\n",
              "      <td>1.0</td>\n",
              "    </tr>\n",
              "    <tr>\n",
              "      <th>2</th>\n",
              "      <td>3</td>\n",
              "      <td>3</td>\n",
              "      <td>Heikkinen, Miss. Laina</td>\n",
              "      <td>female</td>\n",
              "      <td>26.0</td>\n",
              "      <td>0</td>\n",
              "      <td>0</td>\n",
              "      <td>STON/O2. 3101282</td>\n",
              "      <td>7.9250</td>\n",
              "      <td>NaN</td>\n",
              "      <td>3.0</td>\n",
              "      <td>1.0</td>\n",
              "    </tr>\n",
              "    <tr>\n",
              "      <th>3</th>\n",
              "      <td>4</td>\n",
              "      <td>1</td>\n",
              "      <td>Futrelle, Mrs. Jacques Heath (Lily May Peel)</td>\n",
              "      <td>female</td>\n",
              "      <td>35.0</td>\n",
              "      <td>1</td>\n",
              "      <td>0</td>\n",
              "      <td>113803</td>\n",
              "      <td>53.1000</td>\n",
              "      <td>C123</td>\n",
              "      <td>3.0</td>\n",
              "      <td>1.0</td>\n",
              "    </tr>\n",
              "    <tr>\n",
              "      <th>4</th>\n",
              "      <td>5</td>\n",
              "      <td>3</td>\n",
              "      <td>Allen, Mr. William Henry</td>\n",
              "      <td>male</td>\n",
              "      <td>35.0</td>\n",
              "      <td>0</td>\n",
              "      <td>0</td>\n",
              "      <td>373450</td>\n",
              "      <td>8.0500</td>\n",
              "      <td>NaN</td>\n",
              "      <td>3.0</td>\n",
              "      <td>NaN</td>\n",
              "    </tr>\n",
              "  </tbody>\n",
              "</table>\n",
              "</div>"
            ],
            "text/plain": [
              "   PassengerId  Pclass                                               Name  \\\n",
              "0            1       3                            Braund, Mr. Owen Harris   \n",
              "1            2       1  Cumings, Mrs. John Bradley (Florence Briggs Th...   \n",
              "2            3       3                             Heikkinen, Miss. Laina   \n",
              "3            4       1       Futrelle, Mrs. Jacques Heath (Lily May Peel)   \n",
              "4            5       3                           Allen, Mr. William Henry   \n",
              "\n",
              "      Sex   Age  SibSp  Parch            Ticket     Fare Cabin  Embarked  \\\n",
              "0    male  22.0      1      0         A/5 21171   7.2500   NaN       3.0   \n",
              "1  female  38.0      1      0          PC 17599  71.2833   C85       1.0   \n",
              "2  female  26.0      0      0  STON/O2. 3101282   7.9250   NaN       3.0   \n",
              "3  female  35.0      1      0            113803  53.1000  C123       3.0   \n",
              "4    male  35.0      0      0            373450   8.0500   NaN       3.0   \n",
              "\n",
              "   Survived  \n",
              "0       0.0  \n",
              "1       1.0  \n",
              "2       1.0  \n",
              "3       1.0  \n",
              "4       NaN  "
            ]
          },
          "metadata": {
            "tags": []
          }
        }
      ]
    },
    {
      "cell_type": "code",
      "metadata": {
        "id": "3srHWA-kz24T",
        "colab_type": "code",
        "colab": {
          "base_uri": "https://localhost:8080/",
          "height": 238
        },
        "outputId": "e685c4f3-0880-4d09-8d1d-04299d939859"
      },
      "source": [
        "#Identificar o tipo de cada variável\n",
        "display(titanic.dtypes)"
      ],
      "execution_count": null,
      "outputs": [
        {
          "output_type": "display_data",
          "data": {
            "text/plain": [
              "PassengerId      int64\n",
              "Pclass           int64\n",
              "Name            object\n",
              "Sex             object\n",
              "Age            float64\n",
              "SibSp            int64\n",
              "Parch            int64\n",
              "Ticket          object\n",
              "Fare           float64\n",
              "Cabin           object\n",
              "Embarked       float64\n",
              "Survived       float64\n",
              "dtype: object"
            ]
          },
          "metadata": {
            "tags": []
          }
        }
      ]
    },
    {
      "cell_type": "code",
      "metadata": {
        "id": "tCVP5dbybZsQ",
        "colab_type": "code",
        "colab": {}
      },
      "source": [
        "#Instalando o pandas profiling\n",
        "!pip install https://github.com/pandas-profiling/pandas-profiling/archive/master.zip"
      ],
      "execution_count": null,
      "outputs": []
    },
    {
      "cell_type": "code",
      "metadata": {
        "id": "Y0353BfnbtAX",
        "colab_type": "code",
        "colab": {}
      },
      "source": [
        "#Import o ProfileReport\n",
        "from pandas_profiling import ProfileReport"
      ],
      "execution_count": null,
      "outputs": []
    },
    {
      "cell_type": "code",
      "metadata": {
        "id": "tQm5Y9enbvuG",
        "colab_type": "code",
        "colab": {}
      },
      "source": [
        "#Executando o profile\n",
        "profile = ProfileReport(titanic, title='Relatório - Pandas Profiling', html={'style':{'full_width':True}})\n",
        "profile"
      ],
      "execution_count": null,
      "outputs": []
    },
    {
      "cell_type": "markdown",
      "metadata": {
        "id": "a3pXws8UdF0r",
        "colab_type": "text"
      },
      "source": [
        "**Qual a porcentagem de valores faltantes?**\n",
        "\n",
        "A informação sobre a **Cabin** é a que possui o maior número de informações faltantes, com mais de 77%. Após, a coluna **Age** não possui valor em quase 20% dos passageiros. Por fim, a coluna informando o Porto de embarque (**Embarked**) possui apenas 2% de informações faltantes."
      ]
    },
    {
      "cell_type": "code",
      "metadata": {
        "id": "ZPuPbG0yc_mO",
        "colab_type": "code",
        "colab": {
          "base_uri": "https://localhost:8080/",
          "height": 238
        },
        "outputId": "d13b20c4-a8d4-473a-b2fc-fb91c33c448d"
      },
      "source": [
        "(titanic.isnull().sum() / titanic.shape[0]).sort_values(ascending=False)"
      ],
      "execution_count": null,
      "outputs": [
        {
          "output_type": "execute_result",
          "data": {
            "text/plain": [
              "Cabin          0.771044\n",
              "Age            0.198653\n",
              "Survived       0.002245\n",
              "Embarked       0.002245\n",
              "Fare           0.000000\n",
              "Ticket         0.000000\n",
              "Parch          0.000000\n",
              "SibSp          0.000000\n",
              "Sex            0.000000\n",
              "Name           0.000000\n",
              "Pclass         0.000000\n",
              "PassengerId    0.000000\n",
              "dtype: float64"
            ]
          },
          "metadata": {
            "tags": []
          },
          "execution_count": 7
        }
      ]
    },
    {
      "cell_type": "markdown",
      "metadata": {
        "id": "SHp5dTFmdf7q",
        "colab_type": "text"
      },
      "source": [
        "**Como é a distribuição estatística dos dados?**"
      ]
    },
    {
      "cell_type": "code",
      "metadata": {
        "id": "kNe4uHPddh24",
        "colab_type": "code",
        "colab": {
          "base_uri": "https://localhost:8080/",
          "height": 297
        },
        "outputId": "bacfb0c8-94e0-42db-e058-65ecd2c3e6d9"
      },
      "source": [
        "titanic.describe()"
      ],
      "execution_count": null,
      "outputs": [
        {
          "output_type": "execute_result",
          "data": {
            "text/html": [
              "<div>\n",
              "<style scoped>\n",
              "    .dataframe tbody tr th:only-of-type {\n",
              "        vertical-align: middle;\n",
              "    }\n",
              "\n",
              "    .dataframe tbody tr th {\n",
              "        vertical-align: top;\n",
              "    }\n",
              "\n",
              "    .dataframe thead th {\n",
              "        text-align: right;\n",
              "    }\n",
              "</style>\n",
              "<table border=\"1\" class=\"dataframe\">\n",
              "  <thead>\n",
              "    <tr style=\"text-align: right;\">\n",
              "      <th></th>\n",
              "      <th>PassengerId</th>\n",
              "      <th>Pclass</th>\n",
              "      <th>Age</th>\n",
              "      <th>SibSp</th>\n",
              "      <th>Parch</th>\n",
              "      <th>Fare</th>\n",
              "      <th>Embarked</th>\n",
              "      <th>Survived</th>\n",
              "    </tr>\n",
              "  </thead>\n",
              "  <tbody>\n",
              "    <tr>\n",
              "      <th>count</th>\n",
              "      <td>891.000000</td>\n",
              "      <td>891.000000</td>\n",
              "      <td>714.000000</td>\n",
              "      <td>891.000000</td>\n",
              "      <td>891.000000</td>\n",
              "      <td>891.000000</td>\n",
              "      <td>889.000000</td>\n",
              "      <td>889.000000</td>\n",
              "    </tr>\n",
              "    <tr>\n",
              "      <th>mean</th>\n",
              "      <td>446.000000</td>\n",
              "      <td>2.308642</td>\n",
              "      <td>29.699118</td>\n",
              "      <td>0.523008</td>\n",
              "      <td>0.381594</td>\n",
              "      <td>32.204208</td>\n",
              "      <td>2.535433</td>\n",
              "      <td>0.384702</td>\n",
              "    </tr>\n",
              "    <tr>\n",
              "      <th>std</th>\n",
              "      <td>257.353842</td>\n",
              "      <td>0.836071</td>\n",
              "      <td>14.526497</td>\n",
              "      <td>1.102743</td>\n",
              "      <td>0.806057</td>\n",
              "      <td>49.693429</td>\n",
              "      <td>0.792088</td>\n",
              "      <td>0.486799</td>\n",
              "    </tr>\n",
              "    <tr>\n",
              "      <th>min</th>\n",
              "      <td>1.000000</td>\n",
              "      <td>1.000000</td>\n",
              "      <td>0.420000</td>\n",
              "      <td>0.000000</td>\n",
              "      <td>0.000000</td>\n",
              "      <td>0.000000</td>\n",
              "      <td>1.000000</td>\n",
              "      <td>0.000000</td>\n",
              "    </tr>\n",
              "    <tr>\n",
              "      <th>25%</th>\n",
              "      <td>223.500000</td>\n",
              "      <td>2.000000</td>\n",
              "      <td>20.125000</td>\n",
              "      <td>0.000000</td>\n",
              "      <td>0.000000</td>\n",
              "      <td>7.910400</td>\n",
              "      <td>2.000000</td>\n",
              "      <td>0.000000</td>\n",
              "    </tr>\n",
              "    <tr>\n",
              "      <th>50%</th>\n",
              "      <td>446.000000</td>\n",
              "      <td>3.000000</td>\n",
              "      <td>28.000000</td>\n",
              "      <td>0.000000</td>\n",
              "      <td>0.000000</td>\n",
              "      <td>14.454200</td>\n",
              "      <td>3.000000</td>\n",
              "      <td>0.000000</td>\n",
              "    </tr>\n",
              "    <tr>\n",
              "      <th>75%</th>\n",
              "      <td>668.500000</td>\n",
              "      <td>3.000000</td>\n",
              "      <td>38.000000</td>\n",
              "      <td>1.000000</td>\n",
              "      <td>0.000000</td>\n",
              "      <td>31.000000</td>\n",
              "      <td>3.000000</td>\n",
              "      <td>1.000000</td>\n",
              "    </tr>\n",
              "    <tr>\n",
              "      <th>max</th>\n",
              "      <td>891.000000</td>\n",
              "      <td>3.000000</td>\n",
              "      <td>80.000000</td>\n",
              "      <td>8.000000</td>\n",
              "      <td>6.000000</td>\n",
              "      <td>512.329200</td>\n",
              "      <td>3.000000</td>\n",
              "      <td>1.000000</td>\n",
              "    </tr>\n",
              "  </tbody>\n",
              "</table>\n",
              "</div>"
            ],
            "text/plain": [
              "       PassengerId      Pclass         Age       SibSp       Parch  \\\n",
              "count   891.000000  891.000000  714.000000  891.000000  891.000000   \n",
              "mean    446.000000    2.308642   29.699118    0.523008    0.381594   \n",
              "std     257.353842    0.836071   14.526497    1.102743    0.806057   \n",
              "min       1.000000    1.000000    0.420000    0.000000    0.000000   \n",
              "25%     223.500000    2.000000   20.125000    0.000000    0.000000   \n",
              "50%     446.000000    3.000000   28.000000    0.000000    0.000000   \n",
              "75%     668.500000    3.000000   38.000000    1.000000    0.000000   \n",
              "max     891.000000    3.000000   80.000000    8.000000    6.000000   \n",
              "\n",
              "             Fare    Embarked    Survived  \n",
              "count  891.000000  889.000000  889.000000  \n",
              "mean    32.204208    2.535433    0.384702  \n",
              "std     49.693429    0.792088    0.486799  \n",
              "min      0.000000    1.000000    0.000000  \n",
              "25%      7.910400    2.000000    0.000000  \n",
              "50%     14.454200    3.000000    0.000000  \n",
              "75%     31.000000    3.000000    1.000000  \n",
              "max    512.329200    3.000000    1.000000  "
            ]
          },
          "metadata": {
            "tags": []
          },
          "execution_count": 8
        }
      ]
    },
    {
      "cell_type": "code",
      "metadata": {
        "id": "rZD86YY_eKg0",
        "colab_type": "code",
        "colab": {
          "base_uri": "https://localhost:8080/",
          "height": 499
        },
        "outputId": "749611f7-45ef-4749-b86d-41cd008e7b6c"
      },
      "source": [
        "#Ver histograma das variaveis numericas\n",
        "titanic.hist(figsize=(10,8));"
      ],
      "execution_count": null,
      "outputs": [
        {
          "output_type": "display_data",
          "data": {
            "image/png": "[encoded data removed]",
            "text/plain": [
              "<Figure size 720x576 with 9 Axes>"
            ]
          },
          "metadata": {
            "tags": [],
            "needs_background": "light"
          }
        }
      ]
    },
    {
      "cell_type": "markdown",
      "metadata": {
        "id": "sPWGRPfzfBKK",
        "colab_type": "text"
      },
      "source": [
        "**Quais grupos de pessoas tinham mais chances de sobrevivência??**"
      ]
    },
    {
      "cell_type": "code",
      "metadata": {
        "id": "Bouk2Tt8e0Jl",
        "colab_type": "code",
        "colab": {
          "base_uri": "https://localhost:8080/",
          "height": 142
        },
        "outputId": "c3c10267-305d-4780-f66a-b805f736d797"
      },
      "source": [
        "#Analisar a probabilidade de sobrevivencia pelo sexo\n",
        "titanic[['Sex', 'Survived']].groupby(['Sex']).mean()"
      ],
      "execution_count": null,
      "outputs": [
        {
          "output_type": "execute_result",
          "data": {
            "text/html": [
              "<div>\n",
              "<style scoped>\n",
              "    .dataframe tbody tr th:only-of-type {\n",
              "        vertical-align: middle;\n",
              "    }\n",
              "\n",
              "    .dataframe tbody tr th {\n",
              "        vertical-align: top;\n",
              "    }\n",
              "\n",
              "    .dataframe thead th {\n",
              "        text-align: right;\n",
              "    }\n",
              "</style>\n",
              "<table border=\"1\" class=\"dataframe\">\n",
              "  <thead>\n",
              "    <tr style=\"text-align: right;\">\n",
              "      <th></th>\n",
              "      <th>Survived</th>\n",
              "    </tr>\n",
              "    <tr>\n",
              "      <th>Sex</th>\n",
              "      <th></th>\n",
              "    </tr>\n",
              "  </thead>\n",
              "  <tbody>\n",
              "    <tr>\n",
              "      <th>female</th>\n",
              "      <td>0.742038</td>\n",
              "    </tr>\n",
              "    <tr>\n",
              "      <th>male</th>\n",
              "      <td>0.189565</td>\n",
              "    </tr>\n",
              "  </tbody>\n",
              "</table>\n",
              "</div>"
            ],
            "text/plain": [
              "        Survived\n",
              "Sex             \n",
              "female  0.742038\n",
              "male    0.189565"
            ]
          },
          "metadata": {
            "tags": []
          },
          "execution_count": 10
        }
      ]
    },
    {
      "cell_type": "code",
      "metadata": {
        "id": "sMF1s8wgfc5i",
        "colab_type": "code",
        "colab": {
          "base_uri": "https://localhost:8080/",
          "height": 279
        },
        "outputId": "62e2cc3b-8601-40f9-b18c-346f7f7e8072"
      },
      "source": [
        "#Plotar os gráficos para Survived vs. Sex, Pclass e Embarked\n",
        "fig, (axis1, axis2, axis3) = plt.subplots(1,3, figsize=(12,4))\n",
        "\n",
        "sns.barplot(x='Sex', y='Survived', data=titanic, ax=axis1)\n",
        "sns.barplot(x='Pclass', y='Survived', data=titanic, ax=axis2)\n",
        "sns.barplot(x='Embarked', y='Survived', data=titanic, ax=axis3);"
      ],
      "execution_count": null,
      "outputs": [
        {
          "output_type": "display_data",
          "data": {
            "image/png": "[encoded data removed]",
            "text/plain": [
              "<Figure size 864x288 with 3 Axes>"
            ]
          },
          "metadata": {
            "tags": [],
            "needs_background": "light"
          }
        }
      ]
    },
    {
      "cell_type": "code",
      "metadata": {
        "id": "xGI240byfx2Q",
        "colab_type": "code",
        "colab": {
          "base_uri": "https://localhost:8080/",
          "height": 242
        },
        "outputId": "f5afff09-c7a6-435c-908c-c2ea591f0259"
      },
      "source": [
        "#Ver influência da idade na probabilidade de sobrevivência\n",
        "age_survived = sns.FacetGrid(titanic, col='Survived')\n",
        "age_survived.map(sns.distplot, 'Age')\n"
      ],
      "execution_count": null,
      "outputs": [
        {
          "output_type": "execute_result",
          "data": {
            "text/plain": [
              "<seaborn.axisgrid.FacetGrid at 0x7f36057dbf98>"
            ]
          },
          "metadata": {
            "tags": []
          },
          "execution_count": 12
        },
        {
          "output_type": "display_data",
          "data": {
            "image/png": "[encoded data removed]",
            "text/plain": [
              "<Figure size 432x216 with 2 Axes>"
            ]
          },
          "metadata": {
            "tags": [],
            "needs_background": "light"
          }
        }
      ]
    },
    {
      "cell_type": "code",
      "metadata": {
        "id": "8xvipWQxf7WT",
        "colab_type": "code",
        "colab": {
          "base_uri": "https://localhost:8080/",
          "height": 320
        },
        "outputId": "4b33cec1-e8b1-4dd8-a3b4-7365ead3951f"
      },
      "source": [
        "#Plotar o heatmap para as variáveis numéricas\n",
        "sns.heatmap(titanic.corr(), cmap='coolwarm', fmt='.2f', linewidths=0.1,\n",
        "            vmax=1.0, square=True, linecolor='white', annot=True);"
      ],
      "execution_count": null,
      "outputs": [
        {
          "output_type": "display_data",
          "data": {
            "image/png": "[encoded data removed]",
            "text/plain": [
              "<Figure size 432x288 with 2 Axes>"
            ]
          },
          "metadata": {
            "tags": [],
            "needs_background": "light"
          }
        }
      ]
    },
    {
      "cell_type": "markdown",
      "metadata": {
        "id": "ZwtARfjjgWWY",
        "colab_type": "text"
      },
      "source": [
        "Pouca gente sabe que o método ```df.describe()``` pode ser usado também para ver algo sobre a estatística descritiva em colunas que não são números. Para isso, é só passar o argumento ```include=['O']```. \n",
        "\n",
        "**ATENÇÃO, é a letra 'O', e não o número 0!**"
      ]
    },
    {
      "cell_type": "code",
      "metadata": {
        "id": "s9f2jdgpgXaA",
        "colab_type": "code",
        "colab": {
          "base_uri": "https://localhost:8080/",
          "height": 173
        },
        "outputId": "c2e93e5a-9efb-42d9-b239-60d3b92e9588"
      },
      "source": [
        "titanic.describe(include=['O'])"
      ],
      "execution_count": null,
      "outputs": [
        {
          "output_type": "execute_result",
          "data": {
            "text/html": [
              "<div>\n",
              "<style scoped>\n",
              "    .dataframe tbody tr th:only-of-type {\n",
              "        vertical-align: middle;\n",
              "    }\n",
              "\n",
              "    .dataframe tbody tr th {\n",
              "        vertical-align: top;\n",
              "    }\n",
              "\n",
              "    .dataframe thead th {\n",
              "        text-align: right;\n",
              "    }\n",
              "</style>\n",
              "<table border=\"1\" class=\"dataframe\">\n",
              "  <thead>\n",
              "    <tr style=\"text-align: right;\">\n",
              "      <th></th>\n",
              "      <th>Name</th>\n",
              "      <th>Sex</th>\n",
              "      <th>Ticket</th>\n",
              "      <th>Cabin</th>\n",
              "    </tr>\n",
              "  </thead>\n",
              "  <tbody>\n",
              "    <tr>\n",
              "      <th>count</th>\n",
              "      <td>891</td>\n",
              "      <td>891</td>\n",
              "      <td>891</td>\n",
              "      <td>204</td>\n",
              "    </tr>\n",
              "    <tr>\n",
              "      <th>unique</th>\n",
              "      <td>891</td>\n",
              "      <td>2</td>\n",
              "      <td>681</td>\n",
              "      <td>147</td>\n",
              "    </tr>\n",
              "    <tr>\n",
              "      <th>top</th>\n",
              "      <td>Reynaldo, Ms. Encarnacion</td>\n",
              "      <td>male</td>\n",
              "      <td>1601</td>\n",
              "      <td>G6</td>\n",
              "    </tr>\n",
              "    <tr>\n",
              "      <th>freq</th>\n",
              "      <td>1</td>\n",
              "      <td>577</td>\n",
              "      <td>7</td>\n",
              "      <td>4</td>\n",
              "    </tr>\n",
              "  </tbody>\n",
              "</table>\n",
              "</div>"
            ],
            "text/plain": [
              "                             Name   Sex Ticket Cabin\n",
              "count                         891   891    891   204\n",
              "unique                        891     2    681   147\n",
              "top     Reynaldo, Ms. Encarnacion  male   1601    G6\n",
              "freq                            1   577      7     4"
            ]
          },
          "metadata": {
            "tags": []
          },
          "execution_count": 14
        }
      ]
    },
    {
      "cell_type": "code",
      "metadata": {
        "id": "7KZFDoW6mv6m",
        "colab_type": "code",
        "colab": {}
      },
      "source": [
        ""
      ],
      "execution_count": null,
      "outputs": []
    },
    {
      "cell_type": "markdown",
      "metadata": {
        "id": "kXB_3XcSgY34",
        "colab_type": "text"
      },
      "source": [
        "Olhando esses dados a gente observa que:\n",
        "* Os valores para ```Name``` são únicos, um para cada pessoa;\n",
        "* Não há *missing values* para ```Name``` e ```Sex```;\n",
        "* Existem apenas os sexos Masculino e Feminino, sendo que o com maior frequência é o Masculino (577/891 = 65%);\n",
        "* O Porto no qual embarcaram mais passageiros é o de S = Southampton."
      ]
    },
    {
      "cell_type": "markdown",
      "metadata": {
        "id": "yC-H9N-fgl7f",
        "colab_type": "text"
      },
      "source": [
        "## Preparação dos Dados\n",
        "\n",
        "### Juntando os *datasets* de treino e teste\n",
        "\n",
        "Uma dica para quando você vai preparar os dados para um modelo de *Machine Learning* é juntar os *datasets* de treino e teste em um único, e separar novamente no final.\n",
        "\n",
        "Muitas vezes a gente vai fazer um *feature engineering*, criar variáveis *dummy* ou codificar as variáveis. Daí, nosso modelo vai ser treinado em cima dessa arquitetura, e os dados de teste vão ter que seguir essa mesma estrutura.\n",
        "\n",
        "Por isso, é muito mais fácil fazer todas as etapas para um único *DataFrame* e dividir novamente entre treino e teste.\n",
        "\n"
      ]
    },
    {
      "cell_type": "markdown",
      "metadata": {
        "id": "QD8ewZgOiPFc",
        "colab_type": "text"
      },
      "source": [
        "### Remoção de atributos irrelevantes\n",
        "\n",
        "Os atributos ```survival``` (objetivo ou label), e atributos que descrevem os passageiros ou os agrupam em categorias são úteis e serão mantidos, por exemplo: ```Pclass```, ```Sex```, ```Age```, ```SibSp```, ```Parch```, ```Fare``` e ```Embarked```. \n",
        "\n",
        "\n",
        "* ```passengerId``` é apenas uma chave primária para identificar um passageiro e não é relevante para o problema.\n",
        "\n",
        "* ```Name``` náo é útil para previsão, mas pode ser útil para identificação dos registros ou pós-processamento (por exemplo, extrair o último nome).\n",
        "\n",
        "* ```Ticket``` não identifica o registro e nem descreve o passageiro, por isso, deve ser removido.\n"
      ]
    },
    {
      "cell_type": "code",
      "metadata": {
        "id": "6k88KMAqh-Tj",
        "colab_type": "code",
        "colab": {}
      },
      "source": [
        "\n",
        "titanic.drop(['PassengerId', 'Name', 'Ticket', 'Cabin'], axis=1, inplace=True)"
      ],
      "execution_count": null,
      "outputs": []
    },
    {
      "cell_type": "markdown",
      "metadata": {
        "id": "P7r3lj3_mAoD",
        "colab_type": "text"
      },
      "source": [
        "### Valores omissos ou inconssistentes\n",
        "\n",
        "\n"
      ]
    },
    {
      "cell_type": "markdown",
      "metadata": {
        "id": "iKCzup_1mBNS",
        "colab_type": "text"
      },
      "source": [
        "Vamos dar uma olhada nos valores que faltam em cada columna e tratar esses campos vazios.\n",
        "\n",
        "Normalmente, há duas abordagens mais utilizadas quando a gente encontra *missing values*:\n",
        "* Preencher esses valores arbitrariamente (média, mediana, valor mais frequente); e\n",
        "* Excluir a linha inteira.\n",
        "\n",
        "Cada caso é um caso e novamente você, cientista de dados, é quem vai tomar a decisão sobre qual passo seguir.\n",
        "\n",
        "Na maioria das vezes não é desejável jogar informação de uma linha inteira só por causa de um campo faltando. Sempre que possível é melhor você preencher o campo, e é isso que vamos fazer.\n",
        "\n",
        "Em atributos numéricos , as possibilidades são:\n",
        "\n",
        "1. substituir por zeros;\n",
        "2. substituir por um valor médio ou mediano;\n",
        "3. estimar valores usando modelos estatísticos ou preditivos;\n",
        "4. particionar a base em registros completos e registros incompletos."
      ]
    },
    {
      "cell_type": "code",
      "metadata": {
        "id": "PIJRiw95mJcC",
        "colab_type": "code",
        "colab": {
          "base_uri": "https://localhost:8080/",
          "height": 170
        },
        "outputId": "1d4144b5-0aa8-4b25-bef7-9975a8ad7d1e"
      },
      "source": [
        "#Completar ou apagar valores faltantes nos datasets de treino e teste\n",
        "titanic.isnull().sum()"
      ],
      "execution_count": null,
      "outputs": [
        {
          "output_type": "execute_result",
          "data": {
            "text/plain": [
              "Pclass        0\n",
              "Sex           0\n",
              "Age         177\n",
              "SibSp         0\n",
              "Parch         0\n",
              "Fare          0\n",
              "Embarked      2\n",
              "Survived      2\n",
              "dtype: int64"
            ]
          },
          "metadata": {
            "tags": []
          },
          "execution_count": 16
        }
      ]
    },
    {
      "cell_type": "markdown",
      "metadata": {
        "id": "cvkOkq7TnAOK",
        "colab_type": "text"
      },
      "source": [
        "Para as variáveis idade e tarifa, vou colocar o valor da mediana, e para a variável do porto de embarque, vou colocar o valor com maior frequência."
      ]
    },
    {
      "cell_type": "code",
      "metadata": {
        "id": "PF1-liVfm_aT",
        "colab_type": "code",
        "colab": {}
      },
      "source": [
        "#Age\n",
        "age_median = titanic['Age'].median()\n",
        "titanic['Age'].fillna(age_median, inplace=True)\n",
        "\n",
        "#Survived\n",
        "survived_top = titanic['Survived'].value_counts()[0]\n",
        "titanic['Survived'].fillna(survived_top, inplace=True)\n",
        "\n",
        "#Embarked\n",
        "embarked_top = titanic['Embarked'].value_counts()[1]\n",
        "titanic['Embarked'].fillna(embarked_top, inplace=True)"
      ],
      "execution_count": null,
      "outputs": []
    },
    {
      "cell_type": "code",
      "metadata": {
        "id": "7O5onHfWnqfU",
        "colab_type": "code",
        "colab": {
          "base_uri": "https://localhost:8080/",
          "height": 170
        },
        "outputId": "908d1478-2a8b-45dd-815e-a680802e0e6f"
      },
      "source": [
        "#Ver como ficou os valores Faltantes\n",
        "titanic.isnull().sum()"
      ],
      "execution_count": null,
      "outputs": [
        {
          "output_type": "execute_result",
          "data": {
            "text/plain": [
              "Pclass      0\n",
              "Sex         0\n",
              "Age         0\n",
              "SibSp       0\n",
              "Parch       0\n",
              "Fare        0\n",
              "Embarked    0\n",
              "Survived    0\n",
              "dtype: int64"
            ]
          },
          "metadata": {
            "tags": []
          },
          "execution_count": 18
        }
      ]
    },
    {
      "cell_type": "markdown",
      "metadata": {
        "id": "iTAc8IkDjipF",
        "colab_type": "text"
      },
      "source": [
        "###Transformando tipo de dados"
      ]
    },
    {
      "cell_type": "code",
      "metadata": {
        "id": "4KiJGFa6jpdT",
        "colab_type": "code",
        "colab": {}
      },
      "source": [
        "#Mudar tipo de variavel\n",
        "\n",
        "titanic.Age = titanic.Age.astype('int')\n",
        "titanic.Survived = titanic.Survived.astype('int')\n",
        "titanic.Embarked = titanic.Embarked.astype('int')"
      ],
      "execution_count": null,
      "outputs": []
    },
    {
      "cell_type": "markdown",
      "metadata": {
        "id": "AMjXSw79oP5a",
        "colab_type": "text"
      },
      "source": [
        "### Detectando outliers\n",
        "\n",
        "Outliers são valores extremos. A estatística descritiva, em geral, provê um bom indicativo da presença de outliers, com valores máximos e mínimo muito distantes; o valor da média muito próximo de um máximo ou mínimo, mostrando problema de distribuição dos dados."
      ]
    },
    {
      "cell_type": "code",
      "metadata": {
        "id": "1yZ5f_HEn_gy",
        "colab_type": "code",
        "colab": {
          "base_uri": "https://localhost:8080/",
          "height": 622
        },
        "outputId": "7320fb86-884d-4f1a-c389-9f6f494c1293"
      },
      "source": [
        "titanic[\"Fare\"].plot(kind=\"box\", figsize=(9,9))\n",
        "\n",
        "index = np.where(titanic[\"Fare\"] == max(titanic[\"Fare\"]) )\n",
        "\n",
        "print(\"Registros com valores extremos:\",titanic.loc[index], sep='\\n')"
      ],
      "execution_count": null,
      "outputs": [
        {
          "output_type": "stream",
          "text": [
            "Registros com valores extremos:\n",
            "     Pclass     Sex  Age  SibSp  Parch      Fare  Embarked  Survived\n",
            "258       1  female   35      0      0  512.3292         1         1\n",
            "679       1    male   36      0      1  512.3292         1         1\n",
            "737       1    male   35      0      0  512.3292         1         1\n"
          ],
          "name": "stdout"
        },
        {
          "output_type": "display_data",
          "data": {
            "image/png": "[encoded data removed]",
            "text/plain": [
              "<Figure size 648x648 with 1 Axes>"
            ]
          },
          "metadata": {
            "tags": [],
            "needs_background": "light"
          }
        }
      ]
    },
    {
      "cell_type": "markdown",
      "metadata": {
        "id": "sypHboi4ok9E",
        "colab_type": "text"
      },
      "source": [
        "### Criando novos atributos\n",
        "\n",
        "Vamos criar uma nova variável ```Family```, que irá unir, conjude e irmãos (```SibSp```) com pais e filhos (```Parch```)."
      ]
    },
    {
      "cell_type": "code",
      "metadata": {
        "id": "4XQslB6holdc",
        "colab_type": "code",
        "colab": {
          "base_uri": "https://localhost:8080/",
          "height": 187
        },
        "outputId": "e567cdb3-a802-4302-fff1-25320ba5a248"
      },
      "source": [
        "titanic[\"Family\"] = titanic[\"SibSp\"] + titanic[\"Parch\"] + 1\n",
        "\n",
        "#Encontrando quem tem a maior família À bordo\n",
        "\n",
        "most_family = np.where(titanic[\"Family\"] == max(titanic[\"Family\"]))\n",
        "\n",
        "print(\"\\nAs maiores famílias à bordo:\\n{0}\".format(titanic.loc[most_family]))"
      ],
      "execution_count": null,
      "outputs": [
        {
          "output_type": "stream",
          "text": [
            "\n",
            "As maiores famílias à bordo:\n",
            "     Pclass     Sex  Age  SibSp  Parch   Fare  Embarked  Survived  Family\n",
            "159       3    male   28      8      2  69.55         3         0      11\n",
            "180       3  female   28      8      2  69.55         3         0      11\n",
            "201       3    male   28      8      2  69.55         3         0      11\n",
            "324       3    male   28      8      2  69.55         3         0      11\n",
            "792       3  female   28      8      2  69.55         3         0      11\n",
            "846       3    male   28      8      2  69.55         3         0      11\n",
            "863       3  female   28      8      2  69.55         3         0      11\n"
          ],
          "name": "stdout"
        }
      ]
    },
    {
      "cell_type": "markdown",
      "metadata": {
        "id": "4b5Qpodzq4vy",
        "colab_type": "text"
      },
      "source": [
        " Os atributos agora estão redundantes, ou muito correlacionados, como podemos ver com a matriz de correlação. A matriz só funciona com tipos de ddos numéricos. Será possível perceber que a variável ```Family``` terá forte correlação (acima de 0.75) com ```SibSp``` e ```Parch```."
      ]
    },
    {
      "cell_type": "code",
      "metadata": {
        "id": "MBrYEez8q1uk",
        "colab_type": "code",
        "colab": {
          "base_uri": "https://localhost:8080/",
          "height": 310
        },
        "outputId": "6be73478-7683-4bae-a516-9bf8a46ec1a9"
      },
      "source": [
        "#Plotar Correlação Novamente\n",
        "sns.heatmap(titanic.corr(), cmap='coolwarm', fmt='.2f', linewidths=0.1,\n",
        "            vmax=1.0, square=True, linecolor='white', annot=True);"
      ],
      "execution_count": null,
      "outputs": [
        {
          "output_type": "display_data",
          "data": {
            "image/png": "[encoded data removed]",
            "text/plain": [
              "<Figure size 432x288 with 2 Axes>"
            ]
          },
          "metadata": {
            "tags": [],
            "needs_background": "light"
          }
        }
      ]
    },
    {
      "cell_type": "code",
      "metadata": {
        "id": "-6ylVQ1irgI3",
        "colab_type": "code",
        "colab": {}
      },
      "source": [
        "#Deletando colunas não necessarias\n",
        "titanic.drop(['SibSp','Parch'], axis=1, inplace=True)"
      ],
      "execution_count": null,
      "outputs": []
    },
    {
      "cell_type": "markdown",
      "metadata": {
        "id": "8E_LkqSur-wh",
        "colab_type": "text"
      },
      "source": [
        "### Preparar as variáveis pro modelo\n",
        "\n",
        "O modelo matemático exige que trabalhemos com variáveis numéricas, ou seja, temos transformar os dados de entrada que estão em formato categoria para números.\n",
        "\n",
        "Como você vê abaixo, eu convertir os valores possíveis de ```Sex```para ```{'female': 0, 'male': 1}```."
      ]
    },
    {
      "cell_type": "code",
      "metadata": {
        "id": "w5NmqYNdl90q",
        "colab_type": "code",
        "colab": {}
      },
      "source": [
        "X = titanic[['Pclass', 'Sex', 'Age', 'Fare', 'Embarked', 'Family']]\n",
        "y = titanic.Survived"
      ],
      "execution_count": null,
      "outputs": []
    },
    {
      "cell_type": "code",
      "metadata": {
        "id": "2wzZgu6ttUVY",
        "colab_type": "code",
        "colab": {}
      },
      "source": [
        "from sklearn import preprocessing\n",
        "sex = preprocessing.LabelEncoder()\n",
        "sex.fit(['female','male'])\n",
        "X.Sex = sex.transform(X.Sex) \n"
      ],
      "execution_count": null,
      "outputs": []
    },
    {
      "cell_type": "code",
      "metadata": {
        "id": "Ha3_1iFzm7ZT",
        "colab_type": "code",
        "colab": {
          "base_uri": "https://localhost:8080/",
          "height": 136
        },
        "outputId": "ab1fa6c8-45b1-494f-9a8a-166fa5e88d6d"
      },
      "source": [
        "#Ver o tipo de dado\n",
        "display(X.dtypes)"
      ],
      "execution_count": null,
      "outputs": [
        {
          "output_type": "display_data",
          "data": {
            "text/plain": [
              "Pclass        int64\n",
              "Sex           int64\n",
              "Age           int64\n",
              "Fare        float64\n",
              "Embarked      int64\n",
              "Family        int64\n",
              "dtype: object"
            ]
          },
          "metadata": {
            "tags": []
          }
        }
      ]
    },
    {
      "cell_type": "markdown",
      "metadata": {
        "id": "CjYfO1X52M07",
        "colab_type": "text"
      },
      "source": [
        "##Separa conjunto de dados"
      ]
    },
    {
      "cell_type": "code",
      "metadata": {
        "id": "qtoSxxbCtkl0",
        "colab_type": "code",
        "colab": {
          "base_uri": "https://localhost:8080/",
          "height": 68
        },
        "outputId": "c14fb6e4-9921-44fe-961d-6d22b445cdb5"
      },
      "source": [
        "from sklearn.model_selection import train_test_split\n",
        "X_train, X_test, y_train, y_test = train_test_split(X, y, test_size=0.3, random_state=0)\n",
        "\n",
        "print('shape X_train: {} \\n' 'shape X_test: {} \\n'.format(X_train.shape, X_test.shape))"
      ],
      "execution_count": null,
      "outputs": [
        {
          "output_type": "stream",
          "text": [
            "shape X_train: (623, 6) \n",
            "shape X_test: (268, 6) \n",
            "\n"
          ],
          "name": "stdout"
        }
      ]
    },
    {
      "cell_type": "markdown",
      "metadata": {
        "id": "fVdPmwSnt27y",
        "colab_type": "text"
      },
      "source": [
        "## Construção do Modelo\n",
        "\n",
        "* Modelo de Regressão Logística\n"
      ]
    },
    {
      "cell_type": "code",
      "metadata": {
        "id": "OobihCwpt8sx",
        "colab_type": "code",
        "colab": {}
      },
      "source": [
        "#Importar bibliotecas do modelo de Machine Learning\n",
        "from sklearn.linear_model import LogisticRegression\n",
        "\n",
        "\n",
        "#Criar um modelo de Regressão Logística\n",
        "lr_model = LogisticRegression(solver='liblinear')\n",
        "\n",
        "#Treina modelo Regressão Logística\n",
        "lr_model.fit(X_train, y_train)\n",
        "\n",
        "#Avalia o Modelo nos dados de teste\n",
        "y_pred_lr = lr_model.predict(X_test)\n",
        "\n"
      ],
      "execution_count": null,
      "outputs": []
    },
    {
      "cell_type": "code",
      "metadata": {
        "id": "YKzgh5R36bRj",
        "colab_type": "code",
        "colab": {
          "base_uri": "https://localhost:8080/",
          "height": 34
        },
        "outputId": "d317dbd7-fe1b-420e-aac2-3a8e68fd528c"
      },
      "source": [
        "#Verificar a acurácia do modelo\n",
        "from sklearn.metrics import accuracy_score\n",
        "print('Acurácia de Previsão: ', accuracy_score(y_test, y_pred_lr) * 100)"
      ],
      "execution_count": null,
      "outputs": [
        {
          "output_type": "stream",
          "text": [
            "Acurácia de Previsão:  79.1044776119403\n"
          ],
          "name": "stdout"
        }
      ]
    },
    {
      "cell_type": "markdown",
      "metadata": {
        "id": "ylQ1bL0D9OkM",
        "colab_type": "text"
      },
      "source": [
        "Acurácia, chegando a 79%."
      ]
    },
    {
      "cell_type": "markdown",
      "metadata": {
        "id": "QtzcFhCj8QF2",
        "colab_type": "text"
      },
      "source": [
        "* Modelo de árvore de decisão"
      ]
    },
    {
      "cell_type": "code",
      "metadata": {
        "id": "lU6VxoCEvJvp",
        "colab_type": "code",
        "colab": {}
      },
      "source": [
        "\n",
        "#Importar bibliotecas do modelo de Machine Learning\n",
        "from sklearn.tree import DecisionTreeClassifier\n",
        "\n",
        "#Criar um modelo Arvore de decisão\n",
        "tree_model = DecisionTreeClassifier(max_depth=3)\n",
        "\n",
        "#Treina modelo Arvore de decisão\n",
        "tree_model.fit(X_train, y_train)\n",
        "\n",
        "#Avalia o Modelo nos dados de teste\n",
        "y_pred_tree = tree_model.predict(X_test)\n",
        "\n",
        "\n"
      ],
      "execution_count": null,
      "outputs": []
    },
    {
      "cell_type": "code",
      "metadata": {
        "id": "iHU6eTzm8bYU",
        "colab_type": "code",
        "colab": {
          "base_uri": "https://localhost:8080/",
          "height": 34
        },
        "outputId": "9911c8cb-8ac6-4c13-efbf-efd18910ab3f"
      },
      "source": [
        "#Verificar a acurácia do modelo\n",
        "from sklearn.metrics import accuracy_score\n",
        "print('Acurácia de Previsão: ', accuracy_score(y_test, y_pred_tree) * 100)"
      ],
      "execution_count": null,
      "outputs": [
        {
          "output_type": "stream",
          "text": [
            "Acurácia de Previsão:  81.71641791044776\n"
          ],
          "name": "stdout"
        }
      ]
    },
    {
      "cell_type": "markdown",
      "metadata": {
        "id": "djdEPimn03N4",
        "colab_type": "text"
      },
      "source": [
        "Um pequeno ganho na acurácia, chegando agora a quase 81%."
      ]
    },
    {
      "cell_type": "markdown",
      "metadata": {
        "id": "YkJG1yiE9Yoy",
        "colab_type": "text"
      },
      "source": [
        "* RandonForestClassifier\n"
      ]
    },
    {
      "cell_type": "code",
      "metadata": {
        "id": "jWMwUOZV9jN5",
        "colab_type": "code",
        "colab": {}
      },
      "source": [
        "from sklearn.ensemble import RandomForestClassifier\n",
        "\n",
        "#Criar o algoritimo RandomForestRegressor\n",
        "rf_regressor = RandomForestClassifier(n_estimators=200, max_depth=7, max_features=3)\n",
        "\n",
        "#Treina o modelo\n",
        "rf_regressor.fit(X_train, y_train)\n",
        "\n",
        "#Previsão do meu modelo\n",
        "y_pred_rf = rf_regressor.predict(X_test)"
      ],
      "execution_count": null,
      "outputs": []
    },
    {
      "cell_type": "code",
      "metadata": {
        "id": "nfKsVM1B9kI7",
        "colab_type": "code",
        "colab": {
          "base_uri": "https://localhost:8080/",
          "height": 34
        },
        "outputId": "64b41df6-be15-4919-8d97-cc9446b1e206"
      },
      "source": [
        "#Verificar a acurácia do modelo\n",
        "from sklearn.metrics import accuracy_score\n",
        "print('Acurácia de Previsão: ', accuracy_score(y_test, y_pred_rf))"
      ],
      "execution_count": null,
      "outputs": [
        {
          "output_type": "stream",
          "text": [
            "Acurácia de Previsão:  0.8283582089552238\n"
          ],
          "name": "stdout"
        }
      ]
    },
    {
      "cell_type": "markdown",
      "metadata": {
        "id": "6_hVSjmS-dPB",
        "colab_type": "text"
      },
      "source": [
        "Um ganho na acurácia, chegando agora a quase 82%."
      ]
    },
    {
      "cell_type": "markdown",
      "metadata": {
        "id": "zzmA1AyVyVKX",
        "colab_type": "text"
      },
      "source": [
        "## Eu sobreviveria ao Titanic?\n",
        "\n",
        "Por fim, já que nosso modelo está pronto, vamos ver se eu e minha esposa sobreviveríamos ao naufrágio do Titanic.\n"
      ]
    },
    {
      "cell_type": "code",
      "metadata": {
        "id": "jJ0ytCSw-7Md",
        "colab_type": "code",
        "colab": {
          "base_uri": "https://localhost:8080/",
          "height": 419
        },
        "outputId": "49fea7b2-a3e8-4a01-fd5e-c5b5ce7bf258"
      },
      "source": [
        "X"
      ],
      "execution_count": null,
      "outputs": [
        {
          "output_type": "execute_result",
          "data": {
            "text/html": [
              "<div>\n",
              "<style scoped>\n",
              "    .dataframe tbody tr th:only-of-type {\n",
              "        vertical-align: middle;\n",
              "    }\n",
              "\n",
              "    .dataframe tbody tr th {\n",
              "        vertical-align: top;\n",
              "    }\n",
              "\n",
              "    .dataframe thead th {\n",
              "        text-align: right;\n",
              "    }\n",
              "</style>\n",
              "<table border=\"1\" class=\"dataframe\">\n",
              "  <thead>\n",
              "    <tr style=\"text-align: right;\">\n",
              "      <th></th>\n",
              "      <th>Pclass</th>\n",
              "      <th>Sex</th>\n",
              "      <th>Age</th>\n",
              "      <th>Fare</th>\n",
              "      <th>Embarked</th>\n",
              "      <th>Family</th>\n",
              "    </tr>\n",
              "  </thead>\n",
              "  <tbody>\n",
              "    <tr>\n",
              "      <th>0</th>\n",
              "      <td>3</td>\n",
              "      <td>1</td>\n",
              "      <td>22</td>\n",
              "      <td>7.2500</td>\n",
              "      <td>3</td>\n",
              "      <td>2</td>\n",
              "    </tr>\n",
              "    <tr>\n",
              "      <th>1</th>\n",
              "      <td>1</td>\n",
              "      <td>0</td>\n",
              "      <td>38</td>\n",
              "      <td>71.2833</td>\n",
              "      <td>1</td>\n",
              "      <td>2</td>\n",
              "    </tr>\n",
              "    <tr>\n",
              "      <th>2</th>\n",
              "      <td>3</td>\n",
              "      <td>0</td>\n",
              "      <td>26</td>\n",
              "      <td>7.9250</td>\n",
              "      <td>3</td>\n",
              "      <td>1</td>\n",
              "    </tr>\n",
              "    <tr>\n",
              "      <th>3</th>\n",
              "      <td>1</td>\n",
              "      <td>0</td>\n",
              "      <td>35</td>\n",
              "      <td>53.1000</td>\n",
              "      <td>3</td>\n",
              "      <td>2</td>\n",
              "    </tr>\n",
              "    <tr>\n",
              "      <th>4</th>\n",
              "      <td>3</td>\n",
              "      <td>1</td>\n",
              "      <td>35</td>\n",
              "      <td>8.0500</td>\n",
              "      <td>3</td>\n",
              "      <td>1</td>\n",
              "    </tr>\n",
              "    <tr>\n",
              "      <th>...</th>\n",
              "      <td>...</td>\n",
              "      <td>...</td>\n",
              "      <td>...</td>\n",
              "      <td>...</td>\n",
              "      <td>...</td>\n",
              "      <td>...</td>\n",
              "    </tr>\n",
              "    <tr>\n",
              "      <th>886</th>\n",
              "      <td>2</td>\n",
              "      <td>1</td>\n",
              "      <td>27</td>\n",
              "      <td>13.0000</td>\n",
              "      <td>3</td>\n",
              "      <td>1</td>\n",
              "    </tr>\n",
              "    <tr>\n",
              "      <th>887</th>\n",
              "      <td>1</td>\n",
              "      <td>0</td>\n",
              "      <td>19</td>\n",
              "      <td>30.0000</td>\n",
              "      <td>3</td>\n",
              "      <td>1</td>\n",
              "    </tr>\n",
              "    <tr>\n",
              "      <th>888</th>\n",
              "      <td>3</td>\n",
              "      <td>0</td>\n",
              "      <td>28</td>\n",
              "      <td>23.4500</td>\n",
              "      <td>3</td>\n",
              "      <td>4</td>\n",
              "    </tr>\n",
              "    <tr>\n",
              "      <th>889</th>\n",
              "      <td>1</td>\n",
              "      <td>1</td>\n",
              "      <td>26</td>\n",
              "      <td>30.0000</td>\n",
              "      <td>1</td>\n",
              "      <td>1</td>\n",
              "    </tr>\n",
              "    <tr>\n",
              "      <th>890</th>\n",
              "      <td>3</td>\n",
              "      <td>1</td>\n",
              "      <td>32</td>\n",
              "      <td>7.7500</td>\n",
              "      <td>2</td>\n",
              "      <td>1</td>\n",
              "    </tr>\n",
              "  </tbody>\n",
              "</table>\n",
              "<p>891 rows × 6 columns</p>\n",
              "</div>"
            ],
            "text/plain": [
              "     Pclass  Sex  Age     Fare  Embarked  Family\n",
              "0         3    1   22   7.2500         3       2\n",
              "1         1    0   38  71.2833         1       2\n",
              "2         3    0   26   7.9250         3       1\n",
              "3         1    0   35  53.1000         3       2\n",
              "4         3    1   35   8.0500         3       1\n",
              "..      ...  ...  ...      ...       ...     ...\n",
              "886       2    1   27  13.0000         3       1\n",
              "887       1    0   19  30.0000         3       1\n",
              "888       3    0   28  23.4500         3       4\n",
              "889       1    1   26  30.0000         1       1\n",
              "890       3    1   32   7.7500         2       1\n",
              "\n",
              "[891 rows x 6 columns]"
            ]
          },
          "metadata": {
            "tags": []
          },
          "execution_count": 34
        }
      ]
    },
    {
      "cell_type": "markdown",
      "metadata": {
        "id": "B5Q0lFqSAe3l",
        "colab_type": "text"
      },
      "source": [
        "**Dicionário de Dados Previsão**\n",
        "\n",
        "Pclass: Classe do bilhete\n",
        "* 1 = 1ª Classe\n",
        "* 2 = 2ª Classe\n",
        "* 3 = 3ª Classe\n",
        "\n",
        "Sexo\n",
        "* 0 = Feminino\n",
        "* 1 = Masculino\n",
        "\n",
        "\n",
        "Embarked: Porto no qual o passageiro embarcou\n",
        "* 1 - C = Cherbourg\n",
        "* 2 - Q = Queenstown\n",
        "* 3 - S = Southampton\n",
        "\n",
        "Survived: Informa se o passageiro sobreviveu ao desastre\n",
        "* 0 = Não\n",
        "* 1 = Sim"
      ]
    },
    {
      "cell_type": "code",
      "metadata": {
        "id": "zfhl3TysyZ9N",
        "colab_type": "code",
        "colab": {
          "base_uri": "https://localhost:8080/",
          "height": 34
        },
        "outputId": "e9e0b59b-78a6-4ffc-e8d3-2bf2571cf89f"
      },
      "source": [
        "#Declarar os valores das variáveis para previsão:\n",
        "edirlan = np.array([2, 1, 28, 35.0, 2, 2]).reshape((1, -1))\n",
        "\n",
        "\n",
        "\n",
        "if tree_model.predict(edirlan) == 0:\n",
        "  print('Edirlan Morreu')\n",
        "else:\n",
        "  print('Edirlan Viveu')\n",
        "                  \n",
        "                  \n",
        "            \n",
        "                  \n"
      ],
      "execution_count": null,
      "outputs": [
        {
          "output_type": "stream",
          "text": [
            "Edirlan Morreu\n"
          ],
          "name": "stdout"
        }
      ]
    }
  ]
}