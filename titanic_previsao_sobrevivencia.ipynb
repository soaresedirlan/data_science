{
  "nbformat": 4,
  "nbformat_minor": 0,
  "metadata": {
    "colab": {
      "name": "titanic_previsao_sobrevivencia.ipynb",
      "provenance": [],
      "toc_visible": true,
      "authorship_tag": "ABX9TyPUdyPUkbNqQV5Of+GD7E2o",
      "include_colab_link": true
    },
    "kernelspec": {
      "name": "python3",
      "display_name": "Python 3"
    }
  },
  "cells": [
    {
      "cell_type": "markdown",
      "metadata": {
        "id": "view-in-github",
        "colab_type": "text"
      },
      "source": [
        "<a href=\"https://colab.research.google.com/github/soaresedirlan/data_science/blob/master/titanic_previsao_sobrevivencia.ipynb\" target=\"_parent\"><img src=\"https://colab.research.google.com/assets/colab-badge.svg\" alt=\"Open In Colab\"/></a>"
      ]
    },
    {
      "cell_type": "markdown",
      "metadata": {
        "id": "y98zozLFftZY",
        "colab_type": "text"
      },
      "source": [
        "#**Titanic: Machine Learning**"
      ]
    },
    {
      "cell_type": "markdown",
      "metadata": {
        "id": "JwRqEgqVfuAe",
        "colab_type": "text"
      },
      "source": [
        "![alt text](https://aventurasnahistoria.uol.com.br/media/_versions/titanic_cgzvpEm_widelg.jpg)"
      ]
    },
    {
      "cell_type": "markdown",
      "metadata": {
        "id": "zDxRThCdfwiO",
        "colab_type": "text"
      },
      "source": [
        "Após colidir com um iceberg em 15 de abril de 1912, seu naufrágio matou 1.502 pessoas de um total de 2.224 passageiros.\n",
        "\n",
        "Como principal fator contribuinte, logo se descobriu que não havia botes salva-vidas suficientes para toda a tripulação e passageiros.\n",
        "\n",
        "Obviamente, aqueles que sobreviveram à tragédia contaram com muita sorte, mas será que alguns grupos de passageiros não tiveram \"mais sorte\" que outros grupos? Será que crianças e mulheres realmente tiveram mais chances de sobreviver? Será que o Jack teve menos chances de escapar do seu destino trágico que a Rose, só pelo fato de ele ter embarcado na 3ª Classe?\n",
        "\n",
        "Com os dados reais disponibilizados, agora você pode fazer uma análise exploratória, testar suas hipóteses e até mesmo construir um modelo preditivo (que tal descobrir quais seriam suas chances de sobrevivência na 1ª Classe se você tivesse viajado com sua esposa e filho?!)\n",
        "\n",
        "**Resumidamente, o objetivo deste desafio é utilizar os dados disponíveis para medir a chance de sobrevivência dos passageiros do Titanic.**\n",
        "\n",
        "## Checklist\n",
        "\n",
        "1. Definição do Problema\n",
        "2. Obtenção dos Dados\n",
        "3. Exploração dos Dados\n",
        "4. Preparação dos Dados\n",
        "5. Construção do Modelo\n",
        "6. Avaliação"
      ]
    },
    {
      "cell_type": "markdown",
      "metadata": {
        "id": "0I5_rWHxfzJe",
        "colab_type": "text"
      },
      "source": [
        "## 1. Definição do Problema\n",
        "\n",
        "A construção do Titanic levou cerca de 2 anos e custou 7,5 milhões de dólares (valores da época). Com 269 metros de comprimento, 28 metros de largura e 53 metros de altura, operava com uma tripulação de 892 pessoas e poderia levar até 2435 passageiros (espalhados pelas três classes disponíveis).\n",
        "\n",
        "Pensado para ser o mais seguro e luxuoso navio da época, foi lançado ao mar em 1911, ganhando fama de ser \"inafundável\".\n",
        "\n",
        "A descrição completa da competição, assim como o conjunto de dados, está disponível na página do Kaggle [Titanic: Machine Learning from Disaster](https://www.kaggle.com/c/titanic).\n",
        "\n",
        "O naufrágio do Titanic teve como fatores contribuintes causas naturais (como o clima) e causas humanas (negligência e excesso de confiança). Independente das causas, o fato é que seu naufrágio matou 1502 pessoas de um total de 2224 passageiros.\n",
        "\n",
        "Embora aqueles que escaparam com vida tiveram sua boa dose de sorte, alguns grupos de pessoas eram mais propensos a escaparem da morte do que outros. Por exemplo, mulheres, crianças e passageiros da 1ª Classe. Assim, nota-se que existe algum padrão que pode ser extraído dos dados brutos.\n",
        "\n",
        "### Objetivo\n",
        "**Análise sobre quais variáveis tiveram maior influência na probabilidade de sobrevivência** (ou seja, que tipo de pessoa teve mais chance de escapar com vida).\n",
        "\n",
        "Após analisar os dados, foi criado **um modelo que mostra a previsão de sobrevivência** para um passageiro qualquer que seja fornecido como *input*.\n",
        "\n"
      ]
    },
    {
      "cell_type": "markdown",
      "metadata": {
        "id": "bKdMqvLLgWAh",
        "colab_type": "text"
      },
      "source": [
        "## 2. Obtenção dos Dados\n",
        "\n",
        "[Os dados disponibilizados pelo Kaggle](https://www.kaggle.com/c/titanic/data) foram divididos em dois grupos:\n",
        "\n",
        "* Dataset de treino (```train.csv```)\n",
        "    * Deve ser usado para construir o modelo de Machine Learning. Neste conjunto de dados, é informado se o passageiro sobreviveu ou não. \n",
        "    * Composto por diversas *features* como gênero do passageiro e classe do embarque.\n",
        "* Dataset de Teste (```test.csv```)\n",
        "    * Deve ser usado como dados que nunca forma vistos pelo modelo. Neste conjunto de dados, não é informado se o passageiro sobreviveu ou não.\n",
        "    \n",
        "\n",
        "Para conseguir baixar os arquivos, é precisar criar um login no Kaggle antes. Para facilitar, os arquivos estão junto com este notebook (pasta ```./data/...```"
      ]
    },
    {
      "cell_type": "code",
      "metadata": {
        "id": "LJj5G8wYg1Rd",
        "colab_type": "code",
        "colab": {}
      },
      "source": [
        "#Montar o seu drive.\n",
        "from google.colab import drive\n",
        "drive.mount('/content/drive')"
      ],
      "execution_count": 0,
      "outputs": []
    },
    {
      "cell_type": "code",
      "metadata": {
        "id": "qD_fKoVCitQA",
        "colab_type": "code",
        "colab": {}
      },
      "source": [
        "#Importar bibliotecas necessárias\n",
        "import pandas as pd\n",
        "import numpy as np\n",
        "import matplotlib.pyplot as plt\n",
        "import seaborn as sns\n",
        "\n",
        "#permitir vizualiza todas as colunas\n",
        "pd.options.display.max_columns = None\n",
        "\n",
        "#renderizar o grafico direto no notebook\n",
        "%matplotlib inline"
      ],
      "execution_count": 0,
      "outputs": []
    },
    {
      "cell_type": "code",
      "metadata": {
        "id": "2GhPjMldjVPo",
        "colab_type": "code",
        "colab": {}
      },
      "source": [
        "titanic = pd.read_csv('/content/drive/My Drive/data_science/datasets/titanic.csv')"
      ],
      "execution_count": 0,
      "outputs": []
    },
    {
      "cell_type": "code",
      "metadata": {
        "id": "JphgSazSjrWl",
        "colab_type": "code",
        "colab": {}
      },
      "source": [
        "#Verificando as dimensões do dataframe\n",
        "print(\"Colunas:\\t{}\\nRegistros:\\t{}\".format(titanic.shape[1], titanic.shape[0]))\n"
      ],
      "execution_count": 0,
      "outputs": []
    },
    {
      "cell_type": "markdown",
      "metadata": {
        "id": "FC9YOv-FZ_aX",
        "colab_type": "text"
      },
      "source": [
        "## 3. Exploração dos Dados\n",
        "\n",
        "Em uma análise inicial, serão estudadas cada variável. É importante verificar seu nome, tipo, porcentagem de valores faltantes, presença de outliers e tipo de distribuição.\n",
        "\n",
        "Como se trata de um Aprendizado Supervisionado (*Supervised Learning*), a variável ```Survived``` é definida como sendo a nossa variável alvo (*target*)."
      ]
    },
    {
      "cell_type": "markdown",
      "metadata": {
        "id": "znmIsqoDaL4S",
        "colab_type": "text"
      },
      "source": [
        "### Dicionário de Dados\n",
        "\n",
        "* **PassengerId:** Número de identificação do passageiro\n",
        "* **Survived:** Informa se o passageiro sobreviveu ao desastre\n",
        "    * 0 = Não\n",
        "    * 1 = Sim\n",
        "* **Pclass:** Classe do bilhete\n",
        "    * 1 = 1ª Classe\n",
        "    * 2 = 2ª Classe\n",
        "    * 3 = 3ª Classe\n",
        "* **Name:** Nome do passageiro\n",
        "* **Sex:** Sexo do passageiro\n",
        "* **Age:** Idade do passageiro\n",
        "* **SibSp:** Quantidade de cônjuges e irmãos a bordo\n",
        "* **Parch:** Quantidade de pais e filhos a bordo\n",
        "* **Ticket:** Número da passagem\n",
        "* **Fare:** Preço da Passagem\n",
        "* **Cabin:** Número da cabine do passageiro\n",
        "* **Embarked:** Porto no qual o passageiro embarcou\n",
        "    * 1 - C = Cherbourg\n",
        "    * 2 - Q = Queenstown\n",
        "    * 3 - S = Southampton"
      ]
    },
    {
      "cell_type": "markdown",
      "metadata": {
        "id": "Z2TAn7uIabGx",
        "colab_type": "text"
      },
      "source": [
        "**Quais os tipos de cada variável?**\n",
        "\n",
        "* Variáveis Numéricas\n",
        "    * Discretas\n",
        "        * Pclass\n",
        "        * SibSp\n",
        "        * Parch\n",
        "    * Contínuas\n",
        "        * Age\n",
        "        * Fare\n",
        "    * Alvo\n",
        "        * Survived\n",
        "    * Chave Primária\n",
        "        * PassengerId\n",
        "* Variáveis Categóricas\n",
        "    * Name\n",
        "    * Sex\n",
        "    * Ticket\n",
        "    * Cabin\n",
        "    * Embarked"
      ]
    },
    {
      "cell_type": "code",
      "metadata": {
        "id": "Ltjl29koaeZJ",
        "colab_type": "code",
        "colab": {}
      },
      "source": [
        "#Ver as 5 primeiras entradas do conjunto de dados\n",
        "display(titanic.head())"
      ],
      "execution_count": 0,
      "outputs": []
    },
    {
      "cell_type": "code",
      "metadata": {
        "id": "3srHWA-kz24T",
        "colab_type": "code",
        "colab": {}
      },
      "source": [
        "#Identificar o tipo de cada variável\n",
        "display(titanic.dtypes)"
      ],
      "execution_count": 0,
      "outputs": []
    },
    {
      "cell_type": "code",
      "metadata": {
        "id": "tCVP5dbybZsQ",
        "colab_type": "code",
        "colab": {}
      },
      "source": [
        "# instalando o pandas profiling\n",
        "!pip install https://github.com/pandas-profiling/pandas-profiling/archive/master.zip"
      ],
      "execution_count": 0,
      "outputs": []
    },
    {
      "cell_type": "code",
      "metadata": {
        "id": "Y0353BfnbtAX",
        "colab_type": "code",
        "colab": {}
      },
      "source": [
        "# import o ProfileReport\n",
        "from pandas_profiling import ProfileReport"
      ],
      "execution_count": 0,
      "outputs": []
    },
    {
      "cell_type": "code",
      "metadata": {
        "id": "tQm5Y9enbvuG",
        "colab_type": "code",
        "colab": {}
      },
      "source": [
        "# executando o profile\n",
        "profile = ProfileReport(titanic, title='Relatório - Pandas Profiling', html={'style':{'full_width':True}})\n",
        "profile"
      ],
      "execution_count": 0,
      "outputs": []
    },
    {
      "cell_type": "markdown",
      "metadata": {
        "id": "a3pXws8UdF0r",
        "colab_type": "text"
      },
      "source": [
        "**Qual a porcentagem de valores faltantes?**\n",
        "\n",
        "A informação sobre a **Cabin** é a que possui o maior número de informações faltantes, com mais de 77%. Após, a coluna **Age** não possui valor em quase 20% dos passageiros. Por fim, a coluna informando o Porto de embarque (**Embarked**) possui apenas 2% de informações faltantes."
      ]
    },
    {
      "cell_type": "code",
      "metadata": {
        "id": "ZPuPbG0yc_mO",
        "colab_type": "code",
        "colab": {}
      },
      "source": [
        "(titanic.isnull().sum() / titanic.shape[0]).sort_values(ascending=False)"
      ],
      "execution_count": 0,
      "outputs": []
    },
    {
      "cell_type": "markdown",
      "metadata": {
        "id": "SHp5dTFmdf7q",
        "colab_type": "text"
      },
      "source": [
        "**Como é a distribuição estatística dos dados?**"
      ]
    },
    {
      "cell_type": "code",
      "metadata": {
        "id": "kNe4uHPddh24",
        "colab_type": "code",
        "colab": {}
      },
      "source": [
        "titanic.describe()"
      ],
      "execution_count": 0,
      "outputs": []
    },
    {
      "cell_type": "code",
      "metadata": {
        "id": "rZD86YY_eKg0",
        "colab_type": "code",
        "colab": {}
      },
      "source": [
        "#Ver histograma das variaveis numericas\n",
        "titanic.hist(figsize=(10,8));"
      ],
      "execution_count": 0,
      "outputs": []
    },
    {
      "cell_type": "markdown",
      "metadata": {
        "id": "sPWGRPfzfBKK",
        "colab_type": "text"
      },
      "source": [
        "**Quais grupos de pessoas tinham mais chances de sobrevivência??**"
      ]
    },
    {
      "cell_type": "code",
      "metadata": {
        "id": "Bouk2Tt8e0Jl",
        "colab_type": "code",
        "colab": {}
      },
      "source": [
        "#Analisar a probabilidade de sobrevivencia pelo sexo\n",
        "titanic[['Sex', 'Survived']].groupby(['Sex']).mean()"
      ],
      "execution_count": 0,
      "outputs": []
    },
    {
      "cell_type": "code",
      "metadata": {
        "id": "sMF1s8wgfc5i",
        "colab_type": "code",
        "colab": {}
      },
      "source": [
        "# Plotar os gráficos para Survived vs. Sex, Pclass e Embarked\n",
        "fig, (axis1, axis2, axis3) = plt.subplots(1,3, figsize=(12,4))\n",
        "\n",
        "sns.barplot(x='Sex', y='Survived', data=titanic, ax=axis1)\n",
        "sns.barplot(x='Pclass', y='Survived', data=titanic, ax=axis2)\n",
        "sns.barplot(x='Embarked', y='Survived', data=titanic, ax=axis3);"
      ],
      "execution_count": 0,
      "outputs": []
    },
    {
      "cell_type": "code",
      "metadata": {
        "id": "xGI240byfx2Q",
        "colab_type": "code",
        "colab": {}
      },
      "source": [
        "# ver influência da idade na probabilidade de sobrevivência\n",
        "age_survived = sns.FacetGrid(titanic, col='Survived')\n",
        "age_survived.map(sns.distplot, 'Age')\n"
      ],
      "execution_count": 0,
      "outputs": []
    },
    {
      "cell_type": "code",
      "metadata": {
        "id": "8xvipWQxf7WT",
        "colab_type": "code",
        "colab": {}
      },
      "source": [
        "# plotar o heatmap para as variáveis numéricas\n",
        "sns.heatmap(titanic.corr(), cmap='coolwarm', fmt='.2f', linewidths=0.1,\n",
        "            vmax=1.0, square=True, linecolor='white', annot=True);"
      ],
      "execution_count": 0,
      "outputs": []
    },
    {
      "cell_type": "markdown",
      "metadata": {
        "id": "ZwtARfjjgWWY",
        "colab_type": "text"
      },
      "source": [
        "Pouca gente sabe que o método ```df.describe()``` pode ser usado também para ver algo sobre a estatística descritiva em colunas que não são números. Para isso, é só passar o argumento ```include=['O']```. \n",
        "\n",
        "**ATENÇÃO, é a letra 'O', e não o número 0!**"
      ]
    },
    {
      "cell_type": "code",
      "metadata": {
        "id": "s9f2jdgpgXaA",
        "colab_type": "code",
        "colab": {}
      },
      "source": [
        "titanic.describe(include=['O'])"
      ],
      "execution_count": 0,
      "outputs": []
    },
    {
      "cell_type": "markdown",
      "metadata": {
        "id": "kXB_3XcSgY34",
        "colab_type": "text"
      },
      "source": [
        "Olhando esses dados a gente observa que:\n",
        "* Os valores para ```Name``` são únicos, um para cada pessoa;\n",
        "* Não há *missing values* para ```Name``` e ```Sex```;\n",
        "* Existem apenas os sexos Masculino e Feminino, sendo que o com maior frequência é o Masculino (577/891 = 65%);\n",
        "* O Porto no qual embarcaram mais passageiros é o de S = Southampton."
      ]
    },
    {
      "cell_type": "markdown",
      "metadata": {
        "id": "yC-H9N-fgl7f",
        "colab_type": "text"
      },
      "source": [
        "##Preparação dos Dados\n",
        "\n",
        "### Juntando os *datasets* de treino e teste\n",
        "\n",
        "Uma dica para quando você vai preparar os dados para um modelo de *Machine Learning* é juntar os *datasets* de treino e teste em um único, e separar novamente no final.\n",
        "\n",
        "Muitas vezes a gente vai fazer um *feature engineering*, criar variáveis *dummy* ou codificar as variáveis. Daí, nosso modelo vai ser treinado em cima dessa arquitetura, e os dados de teste vão ter que seguir essa mesma estrutura.\n",
        "\n",
        "Por isso, é muito mais fácil fazer todas as etapas para um único *DataFrame* e dividir novamente entre treino e teste.\n",
        "\n"
      ]
    },
    {
      "cell_type": "markdown",
      "metadata": {
        "id": "QD8ewZgOiPFc",
        "colab_type": "text"
      },
      "source": [
        "### Remoção de atributos irrelevantes\n",
        "\n",
        "Os atributos ```survival``` (objetivo ou label), e atributos que descrevem os passageiros ou os agrupam em categorias são úteis e serão mantidos, por exemplo: ```Pclass```, ```Sex```, ```Age```, ```SibSp```, ```Parch```, ```Fare``` e ```Embarked```. \n",
        "\n",
        "\n",
        "* ```passengerId``` é apenas uma chave primária para identificar um passageiro e não é relevante para o problema.\n",
        "\n",
        "* ```Name``` náo é útil para previsão, mas pode ser útil para identificação dos registros ou pós-processamento (por exemplo, extrair o último nome).\n",
        "\n",
        "* ```Ticket``` não identifica o registro e nem descreve o passageiro, por isso, deve ser removido.\n"
      ]
    },
    {
      "cell_type": "code",
      "metadata": {
        "id": "6k88KMAqh-Tj",
        "colab_type": "code",
        "colab": {}
      },
      "source": [
        "\n",
        "titanic.drop(['PassengerId', 'Name', 'Ticket', 'Cabin'], axis=1, inplace=True)"
      ],
      "execution_count": 0,
      "outputs": []
    },
    {
      "cell_type": "markdown",
      "metadata": {
        "id": "P7r3lj3_mAoD",
        "colab_type": "text"
      },
      "source": [
        "### Valores omissos ou inconssistentes\n",
        "\n",
        "\n"
      ]
    },
    {
      "cell_type": "markdown",
      "metadata": {
        "id": "iKCzup_1mBNS",
        "colab_type": "text"
      },
      "source": [
        "Vamos dar uma olhada nos valores que faltam em cada columna e tratar esses campos vazios.\n",
        "\n",
        "Normalmente, há duas abordagens mais utilizadas quando a gente encontra *missing values*:\n",
        "* Preencher esses valores arbitrariamente (média, mediana, valor mais frequente); e\n",
        "* Excluir a linha inteira.\n",
        "\n",
        "Cada caso é um caso e novamente você, cientista de dados, é quem vai tomar a decisão sobre qual passo seguir.\n",
        "\n",
        "Na maioria das vezes não é desejável jogar informação de uma linha inteira só por causa de um campo faltando. Sempre que possível é melhor você preencher o campo, e é isso que vamos fazer.\n",
        "\n",
        "Em atributos numéricos , as possibilidades são:\n",
        "\n",
        "1. substituir por zeros;\n",
        "2. substituir por um valor médio ou mediano;\n",
        "3. estimar valores usando modelos estatísticos ou preditivos;\n",
        "4. particionar a base em registros completos e registros incompletos."
      ]
    },
    {
      "cell_type": "code",
      "metadata": {
        "id": "PIJRiw95mJcC",
        "colab_type": "code",
        "colab": {}
      },
      "source": [
        "# completar ou apagar valores faltantes nos datasets de treino e teste\n",
        "titanic.isnull().sum()"
      ],
      "execution_count": 0,
      "outputs": []
    },
    {
      "cell_type": "markdown",
      "metadata": {
        "id": "cvkOkq7TnAOK",
        "colab_type": "text"
      },
      "source": [
        "Para as variáveis idade e tarifa, vou colocar o valor da mediana, e para a variável do porto de embarque, vou colocar o valor com maior frequência."
      ]
    },
    {
      "cell_type": "code",
      "metadata": {
        "id": "PF1-liVfm_aT",
        "colab_type": "code",
        "colab": {}
      },
      "source": [
        "# age\n",
        "age_median = titanic['Age'].median()\n",
        "titanic['Age'].fillna(age_median, inplace=True)\n",
        "\n",
        "#Survived\n",
        "survived_top = titanic['Survived'].value_counts()[0]\n",
        "titanic['Survived'].fillna(survived_top, inplace=True)\n",
        "\n",
        "# embarked\n",
        "embarked_top = titanic['Embarked'].value_counts()[1]\n",
        "titanic['Embarked'].fillna(embarked_top, inplace=True)"
      ],
      "execution_count": 0,
      "outputs": []
    },
    {
      "cell_type": "code",
      "metadata": {
        "id": "7O5onHfWnqfU",
        "colab_type": "code",
        "colab": {}
      },
      "source": [
        "# Ver como ficou os valores Faltantes\n",
        "titanic.isnull().sum()"
      ],
      "execution_count": 0,
      "outputs": []
    },
    {
      "cell_type": "markdown",
      "metadata": {
        "id": "iTAc8IkDjipF",
        "colab_type": "text"
      },
      "source": [
        "###Transformando tipo de dados"
      ]
    },
    {
      "cell_type": "code",
      "metadata": {
        "id": "4KiJGFa6jpdT",
        "colab_type": "code",
        "colab": {}
      },
      "source": [
        "#Mudar tipo de variavel\n",
        "\n",
        "titanic.Age = titanic.Age.astype('int')\n",
        "titanic.Survived = titanic.Survived.astype('int')\n",
        "titanic.Embarked = titanic.Embarked.astype('int')"
      ],
      "execution_count": 0,
      "outputs": []
    },
    {
      "cell_type": "markdown",
      "metadata": {
        "id": "AMjXSw79oP5a",
        "colab_type": "text"
      },
      "source": [
        "### Detectando outliers\n",
        "\n",
        "Outliers são valores extremos. A estatística descritiva, em geral, provê um bom indicativo da presença de outliers, com valores máximos e mínimo muito distantes; o valor da média muito próximo de um máximo ou mínimo, mostrando problema de distribuição dos dados."
      ]
    },
    {
      "cell_type": "code",
      "metadata": {
        "id": "1yZ5f_HEn_gy",
        "colab_type": "code",
        "colab": {}
      },
      "source": [
        "titanic[\"Fare\"].plot(kind=\"box\", figsize=(9,9))\n",
        "\n",
        "index = np.where(titanic[\"Fare\"] == max(titanic[\"Fare\"]) )\n",
        "\n",
        "print(\"Registros com valores extremos:\",titanic.loc[index], sep='\\n')"
      ],
      "execution_count": 0,
      "outputs": []
    },
    {
      "cell_type": "markdown",
      "metadata": {
        "id": "sypHboi4ok9E",
        "colab_type": "text"
      },
      "source": [
        "### Criando novos atributos\n",
        "\n",
        "Vamos criar uma nova variável ```Family```, que irá unir, conjude e irmãos (```SibSp```) com pais e filhos (```Parch```)."
      ]
    },
    {
      "cell_type": "code",
      "metadata": {
        "id": "4XQslB6holdc",
        "colab_type": "code",
        "colab": {}
      },
      "source": [
        "titanic[\"Family\"] = titanic[\"SibSp\"] + titanic[\"Parch\"] + 1\n",
        "\n",
        "# Encontrando quem tem a maior família À bordo\n",
        "\n",
        "most_family = np.where(titanic[\"Family\"] == max(titanic[\"Family\"]))\n",
        "\n",
        "print(\"\\nAs maiores famílias à bordo:\\n{0}\".format(titanic.loc[most_family]))"
      ],
      "execution_count": 0,
      "outputs": []
    },
    {
      "cell_type": "markdown",
      "metadata": {
        "id": "4b5Qpodzq4vy",
        "colab_type": "text"
      },
      "source": [
        " Os atributos agora estão redundantes, ou muito correlacionados, como podemos ver com a matriz de correlação. A matriz só funciona com tipos de ddos numéricos. Será possível perceber que a variável ```Family``` terá forte correlação (acima de 0.75) com ```SibSp``` e ```Parch```."
      ]
    },
    {
      "cell_type": "code",
      "metadata": {
        "id": "MBrYEez8q1uk",
        "colab_type": "code",
        "colab": {}
      },
      "source": [
        "# Plotar Correlação Novamente\n",
        "sns.heatmap(titanic.corr(), cmap='coolwarm', fmt='.2f', linewidths=0.1,\n",
        "            vmax=1.0, square=True, linecolor='white', annot=True);"
      ],
      "execution_count": 0,
      "outputs": []
    },
    {
      "cell_type": "code",
      "metadata": {
        "id": "-6ylVQ1irgI3",
        "colab_type": "code",
        "colab": {}
      },
      "source": [
        "#Deletando colunas não necessarias\n",
        "titanic.drop(['SibSp','Parch'], axis=1, inplace=True)"
      ],
      "execution_count": 0,
      "outputs": []
    },
    {
      "cell_type": "markdown",
      "metadata": {
        "id": "8E_LkqSur-wh",
        "colab_type": "text"
      },
      "source": [
        "### Preparar as variáveis pro modelo\n",
        "\n",
        "O modelo matemático exige que trabalhemos com variáveis numéricas, ou seja, temos transformar os dados de entrada que estão em formato categoria para números.\n",
        "\n",
        "Como você vê abaixo, eu convertir os valores possíveis de ```Sex```para ```{'female': 0, 'male': 1}```."
      ]
    },
    {
      "cell_type": "code",
      "metadata": {
        "id": "w5NmqYNdl90q",
        "colab_type": "code",
        "colab": {}
      },
      "source": [
        "X = titanic[['Pclass', 'Sex', 'Age', 'Fare', 'Embarked', 'Family']]\n",
        "y = titanic.Survived"
      ],
      "execution_count": 0,
      "outputs": []
    },
    {
      "cell_type": "code",
      "metadata": {
        "id": "2wzZgu6ttUVY",
        "colab_type": "code",
        "colab": {}
      },
      "source": [
        "from sklearn import preprocessing\n",
        "sex = preprocessing.LabelEncoder()\n",
        "sex.fit(['female','male'])\n",
        "X.Sex = sex.transform(X.Sex) \n"
      ],
      "execution_count": 0,
      "outputs": []
    },
    {
      "cell_type": "code",
      "metadata": {
        "id": "Ha3_1iFzm7ZT",
        "colab_type": "code",
        "colab": {}
      },
      "source": [
        "#Ver o tipo de dado\n",
        "display(X.dtypes)"
      ],
      "execution_count": 0,
      "outputs": []
    },
    {
      "cell_type": "markdown",
      "metadata": {
        "id": "CjYfO1X52M07",
        "colab_type": "text"
      },
      "source": [
        "##Separa conjunto de dados"
      ]
    },
    {
      "cell_type": "code",
      "metadata": {
        "id": "qtoSxxbCtkl0",
        "colab_type": "code",
        "colab": {}
      },
      "source": [
        "from sklearn.model_selection import train_test_split\n",
        "X_train, X_test, y_train, y_test = train_test_split(X, y, test_size=0.3, random_state=0)\n",
        "\n",
        "print('shape X_train: {} \\n' 'shape X_test: {} \\n'.format(X_train.shape, X_test.shape))"
      ],
      "execution_count": 0,
      "outputs": []
    },
    {
      "cell_type": "markdown",
      "metadata": {
        "id": "fVdPmwSnt27y",
        "colab_type": "text"
      },
      "source": [
        "## Construção do Modelo e Avaliação\n",
        "\n",
        "* Modelo de Regressão Logística\n"
      ]
    },
    {
      "cell_type": "code",
      "metadata": {
        "id": "OobihCwpt8sx",
        "colab_type": "code",
        "colab": {}
      },
      "source": [
        "# importar bibliotecas do modelo de Machine Learning\n",
        "from sklearn.linear_model import LogisticRegression\n",
        "\n",
        "\n",
        "# criar um modelo de Regressão Logística\n",
        "lr_model = LogisticRegression(solver='liblinear')\n",
        "\n",
        "#Treina modelo Regressão Logística\n",
        "lr_model.fit(X_train, y_train)\n",
        "\n",
        "#Avalia o Modelo nos dados de teste\n",
        "y_pred_lr = lr_model.predict(X_test)\n",
        "\n"
      ],
      "execution_count": 0,
      "outputs": []
    },
    {
      "cell_type": "code",
      "metadata": {
        "id": "YKzgh5R36bRj",
        "colab_type": "code",
        "colab": {}
      },
      "source": [
        "# verificar a acurácia do modelo\n",
        "from sklearn.metrics import accuracy_score\n",
        "print('Acurácia de Previsão: ', accuracy_score(y_test, y_pred_lr) * 100)"
      ],
      "execution_count": 0,
      "outputs": []
    },
    {
      "cell_type": "markdown",
      "metadata": {
        "id": "ylQ1bL0D9OkM",
        "colab_type": "text"
      },
      "source": [
        "Acurácia, chegando a 79%."
      ]
    },
    {
      "cell_type": "markdown",
      "metadata": {
        "id": "QtzcFhCj8QF2",
        "colab_type": "text"
      },
      "source": [
        "* Modelo de árvore de decisão"
      ]
    },
    {
      "cell_type": "code",
      "metadata": {
        "id": "lU6VxoCEvJvp",
        "colab_type": "code",
        "colab": {}
      },
      "source": [
        "\n",
        "# importar bibliotecas do modelo de Machine Learning\n",
        "from sklearn.tree import DecisionTreeClassifier\n",
        "\n",
        "#criar um modelo Arvore de decisão\n",
        "tree_model = DecisionTreeClassifier(max_depth=3)\n",
        "\n",
        "#Treina modelo Arvore de decisão\n",
        "tree_model.fit(X_train, y_train)\n",
        "\n",
        "#Avalia o Modelo nos dados de teste\n",
        "y_pred_tree = tree_model.predict(X_test)\n",
        "\n",
        "\n"
      ],
      "execution_count": 0,
      "outputs": []
    },
    {
      "cell_type": "code",
      "metadata": {
        "id": "iHU6eTzm8bYU",
        "colab_type": "code",
        "colab": {}
      },
      "source": [
        "# verificar a acurácia do modelo\n",
        "from sklearn.metrics import accuracy_score\n",
        "print('Acurácia de Previsão: ', accuracy_score(y_test, y_pred_tree) * 100)"
      ],
      "execution_count": 0,
      "outputs": []
    },
    {
      "cell_type": "code",
      "metadata": {
        "id": "2QcQ3vX4JLZf",
        "colab_type": "code",
        "colab": {}
      },
      "source": [
        "from sklearn.metrics import accuracy_score, classification_report, confusion_matrix\n",
        "print(classification_report(y_test, y_pred_tree))"
      ],
      "execution_count": 0,
      "outputs": []
    },
    {
      "cell_type": "markdown",
      "metadata": {
        "id": "djdEPimn03N4",
        "colab_type": "text"
      },
      "source": [
        "Um pequeno ganho na acurácia, chegando agora a quase 81%."
      ]
    },
    {
      "cell_type": "markdown",
      "metadata": {
        "id": "YkJG1yiE9Yoy",
        "colab_type": "text"
      },
      "source": [
        "* RandonForestClassifier\n"
      ]
    },
    {
      "cell_type": "code",
      "metadata": {
        "id": "jWMwUOZV9jN5",
        "colab_type": "code",
        "colab": {}
      },
      "source": [
        "from sklearn.ensemble import RandomForestClassifier\n",
        "\n",
        "#Criar o algoritimo RandomForestRegressor\n",
        "rf_regressor = RandomForestClassifier(n_estimators=200, max_depth=7, max_features=3)\n",
        "\n",
        "#Treina o modelo\n",
        "rf_regressor.fit(X_train, y_train)\n",
        "\n",
        "#Previsão do meu modelo\n",
        "y_pred_rf = rf_regressor.predict(X_test)"
      ],
      "execution_count": 0,
      "outputs": []
    },
    {
      "cell_type": "code",
      "metadata": {
        "id": "nfKsVM1B9kI7",
        "colab_type": "code",
        "colab": {}
      },
      "source": [
        "# verificar a acurácia do modelo\n",
        "from sklearn.metrics import accuracy_score\n",
        "print('Acurácia de Previsão: ', accuracy_score(y_test, y_pred_rf))"
      ],
      "execution_count": 0,
      "outputs": []
    },
    {
      "cell_type": "markdown",
      "metadata": {
        "id": "6_hVSjmS-dPB",
        "colab_type": "text"
      },
      "source": [
        "Um pequeno Perda na acurácia, chegando agora a quase 80%."
      ]
    },
    {
      "cell_type": "markdown",
      "metadata": {
        "id": "zzmA1AyVyVKX",
        "colab_type": "text"
      },
      "source": [
        "## Eu sobreviveria ao Titanic?\n",
        "\n",
        "Por fim, já que nosso modelo está pronto, vamos ver se eu e minha esposa sobreviveríamos ao naufrágio do Titanic.\n",
        "\n",
        "Vou considerar que viajaríamos na 2ª Classe, eu com 35 anos e ela com 30, levando nosso bebê Theo, tendo pago o preço médio do Ticket e embarcados no porto de Southampton (Reino Unido)."
      ]
    },
    {
      "cell_type": "code",
      "metadata": {
        "id": "jJ0ytCSw-7Md",
        "colab_type": "code",
        "colab": {}
      },
      "source": [
        "X"
      ],
      "execution_count": 0,
      "outputs": []
    },
    {
      "cell_type": "code",
      "metadata": {
        "id": "zfhl3TysyZ9N",
        "colab_type": "code",
        "colab": {}
      },
      "source": [
        "# declarar os valores das variáveis para mim e minha esposa\n",
        "edirlan = np.array([2, 1, 28, 35.0, 2, 2]).reshape((1, -1))\n",
        "jacque = np.array([2, 0, 30, 35.0, 3, 2]).reshape((1, -1))\n",
        "\n",
        "\n",
        "if tree_model.predict(edirlan) == 0:\n",
        "  print('Edirlan Morreu')\n",
        "else:\n",
        "  print('Edirlan Viveu')\n",
        "                  \n",
        "\n",
        "if tree_model.predict(jacque) == 0:\n",
        "  print('Jacque Morreu')\n",
        "else:\n",
        "  print('Jacque Viveu')\n",
        "                  \n",
        "            \n",
        "                  \n"
      ],
      "execution_count": 0,
      "outputs": []
    }
  ]
}